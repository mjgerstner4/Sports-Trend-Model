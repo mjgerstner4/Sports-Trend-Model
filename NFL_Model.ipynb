{
  "cells": [
    {
      "cell_type": "markdown",
      "metadata": {
        "id": "5BVzXbwOc-Y1"
      },
      "source": [
        "**Merged Pro-Football-Reference Scrape**"
      ]
    },
    {
      "cell_type": "code",
      "execution_count": null,
      "metadata": {
        "id": "DtoNnyBrv2_d"
      },
      "outputs": [],
      "source": [
        "#import libraries\n",
        "import numpy as np\n",
        "import pandas as pd"
      ]
    },
    {
      "cell_type": "code",
      "execution_count": null,
      "metadata": {
        "colab": {
          "base_uri": "https://localhost:8080/"
        },
        "id": "rMM-EpwWdBzY",
        "outputId": "63295179-f05d-4dce-b1bf-6f293dffbf64"
      },
      "outputs": [
        {
          "name": "stdout",
          "output_type": "stream",
          "text": [
            "number of seasons=9\n",
            "number of teams=32\n"
          ]
        }
      ],
      "source": [
        "#create list of seasons to download\n",
        "seasons = [str(season) for season in range(2014, 2023)]\n",
        "print(f'number of seasons={len(seasons)}')\n",
        "\n",
        "#create list of teams\n",
        "teams = ['crd','atl','rav','buf','car','chi','cin','cle','dal','den','det','gnb','htx','clt','jax','kan',\n",
        "         'sdg','ram','rai','mia','min','nwe','nor','nyg','nyj','phi','pit','sea','sfo','tam','oti','was']\n",
        "print(f'number of teams={len(teams)}')"
      ]
    },
    {
      "cell_type": "code",
      "execution_count": null,
      "metadata": {
        "colab": {
          "background_save": true
        },
        "id": "jt9D38XIeK2w",
        "outputId": "961f0a67-238f-49cb-d4ac-398593c72b0b"
      },
      "outputs": [
        {
          "name": "stdout",
          "output_type": "stream",
          "text": [
            "https://www.pro-football-reference.com/teams/crd/2014/gamelog/\n",
            "https://www.pro-football-reference.com/teams/atl/2014/gamelog/\n",
            "https://www.pro-football-reference.com/teams/rav/2014/gamelog/\n",
            "https://www.pro-football-reference.com/teams/buf/2014/gamelog/\n",
            "https://www.pro-football-reference.com/teams/car/2014/gamelog/\n",
            "https://www.pro-football-reference.com/teams/chi/2014/gamelog/\n",
            "https://www.pro-football-reference.com/teams/cin/2014/gamelog/\n",
            "https://www.pro-football-reference.com/teams/cle/2014/gamelog/\n",
            "https://www.pro-football-reference.com/teams/dal/2014/gamelog/\n",
            "https://www.pro-football-reference.com/teams/den/2014/gamelog/\n",
            "https://www.pro-football-reference.com/teams/det/2014/gamelog/\n",
            "https://www.pro-football-reference.com/teams/gnb/2014/gamelog/\n",
            "https://www.pro-football-reference.com/teams/htx/2014/gamelog/\n",
            "https://www.pro-football-reference.com/teams/clt/2014/gamelog/\n",
            "https://www.pro-football-reference.com/teams/jax/2014/gamelog/\n",
            "https://www.pro-football-reference.com/teams/kan/2014/gamelog/\n",
            "https://www.pro-football-reference.com/teams/sdg/2014/gamelog/\n",
            "https://www.pro-football-reference.com/teams/ram/2014/gamelog/\n",
            "https://www.pro-football-reference.com/teams/rai/2014/gamelog/\n",
            "https://www.pro-football-reference.com/teams/mia/2014/gamelog/\n",
            "https://www.pro-football-reference.com/teams/min/2014/gamelog/\n",
            "https://www.pro-football-reference.com/teams/nwe/2014/gamelog/\n",
            "https://www.pro-football-reference.com/teams/nor/2014/gamelog/\n",
            "https://www.pro-football-reference.com/teams/nyg/2014/gamelog/\n",
            "https://www.pro-football-reference.com/teams/nyj/2014/gamelog/\n",
            "https://www.pro-football-reference.com/teams/phi/2014/gamelog/\n",
            "https://www.pro-football-reference.com/teams/pit/2014/gamelog/\n",
            "https://www.pro-football-reference.com/teams/sea/2014/gamelog/\n",
            "https://www.pro-football-reference.com/teams/sfo/2014/gamelog/\n",
            "https://www.pro-football-reference.com/teams/tam/2014/gamelog/\n",
            "https://www.pro-football-reference.com/teams/oti/2014/gamelog/\n",
            "https://www.pro-football-reference.com/teams/was/2014/gamelog/\n",
            "https://www.pro-football-reference.com/teams/crd/2015/gamelog/\n",
            "https://www.pro-football-reference.com/teams/atl/2015/gamelog/\n",
            "https://www.pro-football-reference.com/teams/rav/2015/gamelog/\n",
            "https://www.pro-football-reference.com/teams/buf/2015/gamelog/\n",
            "https://www.pro-football-reference.com/teams/car/2015/gamelog/\n",
            "https://www.pro-football-reference.com/teams/chi/2015/gamelog/\n",
            "https://www.pro-football-reference.com/teams/cin/2015/gamelog/\n",
            "https://www.pro-football-reference.com/teams/cle/2015/gamelog/\n",
            "https://www.pro-football-reference.com/teams/dal/2015/gamelog/\n",
            "https://www.pro-football-reference.com/teams/den/2015/gamelog/\n",
            "https://www.pro-football-reference.com/teams/det/2015/gamelog/\n",
            "https://www.pro-football-reference.com/teams/gnb/2015/gamelog/\n",
            "https://www.pro-football-reference.com/teams/htx/2015/gamelog/\n",
            "https://www.pro-football-reference.com/teams/clt/2015/gamelog/\n",
            "https://www.pro-football-reference.com/teams/jax/2015/gamelog/\n",
            "https://www.pro-football-reference.com/teams/kan/2015/gamelog/\n",
            "https://www.pro-football-reference.com/teams/sdg/2015/gamelog/\n",
            "https://www.pro-football-reference.com/teams/ram/2015/gamelog/\n",
            "https://www.pro-football-reference.com/teams/rai/2015/gamelog/\n",
            "https://www.pro-football-reference.com/teams/mia/2015/gamelog/\n",
            "https://www.pro-football-reference.com/teams/min/2015/gamelog/\n",
            "https://www.pro-football-reference.com/teams/nwe/2015/gamelog/\n",
            "https://www.pro-football-reference.com/teams/nor/2015/gamelog/\n",
            "https://www.pro-football-reference.com/teams/nyg/2015/gamelog/\n",
            "https://www.pro-football-reference.com/teams/nyj/2015/gamelog/\n",
            "https://www.pro-football-reference.com/teams/phi/2015/gamelog/\n",
            "https://www.pro-football-reference.com/teams/pit/2015/gamelog/\n",
            "https://www.pro-football-reference.com/teams/sea/2015/gamelog/\n",
            "https://www.pro-football-reference.com/teams/sfo/2015/gamelog/\n",
            "https://www.pro-football-reference.com/teams/tam/2015/gamelog/\n",
            "https://www.pro-football-reference.com/teams/oti/2015/gamelog/\n",
            "https://www.pro-football-reference.com/teams/was/2015/gamelog/\n",
            "https://www.pro-football-reference.com/teams/crd/2016/gamelog/\n",
            "https://www.pro-football-reference.com/teams/atl/2016/gamelog/\n",
            "https://www.pro-football-reference.com/teams/rav/2016/gamelog/\n",
            "https://www.pro-football-reference.com/teams/buf/2016/gamelog/\n",
            "https://www.pro-football-reference.com/teams/car/2016/gamelog/\n",
            "https://www.pro-football-reference.com/teams/chi/2016/gamelog/\n",
            "https://www.pro-football-reference.com/teams/cin/2016/gamelog/\n",
            "https://www.pro-football-reference.com/teams/cle/2016/gamelog/\n",
            "https://www.pro-football-reference.com/teams/dal/2016/gamelog/\n",
            "https://www.pro-football-reference.com/teams/den/2016/gamelog/\n",
            "https://www.pro-football-reference.com/teams/det/2016/gamelog/\n",
            "https://www.pro-football-reference.com/teams/gnb/2016/gamelog/\n",
            "https://www.pro-football-reference.com/teams/htx/2016/gamelog/\n",
            "https://www.pro-football-reference.com/teams/clt/2016/gamelog/\n",
            "https://www.pro-football-reference.com/teams/jax/2016/gamelog/\n",
            "https://www.pro-football-reference.com/teams/kan/2016/gamelog/\n",
            "https://www.pro-football-reference.com/teams/sdg/2016/gamelog/\n",
            "https://www.pro-football-reference.com/teams/ram/2016/gamelog/\n",
            "https://www.pro-football-reference.com/teams/rai/2016/gamelog/\n",
            "https://www.pro-football-reference.com/teams/mia/2016/gamelog/\n",
            "https://www.pro-football-reference.com/teams/min/2016/gamelog/\n",
            "https://www.pro-football-reference.com/teams/nwe/2016/gamelog/\n",
            "https://www.pro-football-reference.com/teams/nor/2016/gamelog/\n",
            "https://www.pro-football-reference.com/teams/nyg/2016/gamelog/\n",
            "https://www.pro-football-reference.com/teams/nyj/2016/gamelog/\n",
            "https://www.pro-football-reference.com/teams/phi/2016/gamelog/\n",
            "https://www.pro-football-reference.com/teams/pit/2016/gamelog/\n",
            "https://www.pro-football-reference.com/teams/sea/2016/gamelog/\n",
            "https://www.pro-football-reference.com/teams/sfo/2016/gamelog/\n",
            "https://www.pro-football-reference.com/teams/tam/2016/gamelog/\n",
            "https://www.pro-football-reference.com/teams/oti/2016/gamelog/\n",
            "https://www.pro-football-reference.com/teams/was/2016/gamelog/\n",
            "https://www.pro-football-reference.com/teams/crd/2017/gamelog/\n",
            "https://www.pro-football-reference.com/teams/atl/2017/gamelog/\n",
            "https://www.pro-football-reference.com/teams/rav/2017/gamelog/\n",
            "https://www.pro-football-reference.com/teams/buf/2017/gamelog/\n",
            "https://www.pro-football-reference.com/teams/car/2017/gamelog/\n",
            "https://www.pro-football-reference.com/teams/chi/2017/gamelog/\n",
            "https://www.pro-football-reference.com/teams/cin/2017/gamelog/\n",
            "https://www.pro-football-reference.com/teams/cle/2017/gamelog/\n",
            "https://www.pro-football-reference.com/teams/dal/2017/gamelog/\n",
            "https://www.pro-football-reference.com/teams/den/2017/gamelog/\n",
            "https://www.pro-football-reference.com/teams/det/2017/gamelog/\n",
            "https://www.pro-football-reference.com/teams/gnb/2017/gamelog/\n",
            "https://www.pro-football-reference.com/teams/htx/2017/gamelog/\n",
            "https://www.pro-football-reference.com/teams/clt/2017/gamelog/\n",
            "https://www.pro-football-reference.com/teams/jax/2017/gamelog/\n",
            "https://www.pro-football-reference.com/teams/kan/2017/gamelog/\n",
            "https://www.pro-football-reference.com/teams/sdg/2017/gamelog/\n",
            "https://www.pro-football-reference.com/teams/ram/2017/gamelog/\n",
            "https://www.pro-football-reference.com/teams/rai/2017/gamelog/\n",
            "https://www.pro-football-reference.com/teams/mia/2017/gamelog/\n",
            "https://www.pro-football-reference.com/teams/min/2017/gamelog/\n",
            "https://www.pro-football-reference.com/teams/nwe/2017/gamelog/\n",
            "https://www.pro-football-reference.com/teams/nor/2017/gamelog/\n",
            "https://www.pro-football-reference.com/teams/nyg/2017/gamelog/\n",
            "https://www.pro-football-reference.com/teams/nyj/2017/gamelog/\n",
            "https://www.pro-football-reference.com/teams/phi/2017/gamelog/\n",
            "https://www.pro-football-reference.com/teams/pit/2017/gamelog/\n",
            "https://www.pro-football-reference.com/teams/sea/2017/gamelog/\n",
            "https://www.pro-football-reference.com/teams/sfo/2017/gamelog/\n",
            "https://www.pro-football-reference.com/teams/tam/2017/gamelog/\n",
            "https://www.pro-football-reference.com/teams/oti/2017/gamelog/\n",
            "https://www.pro-football-reference.com/teams/was/2017/gamelog/\n",
            "https://www.pro-football-reference.com/teams/crd/2018/gamelog/\n",
            "https://www.pro-football-reference.com/teams/atl/2018/gamelog/\n",
            "https://www.pro-football-reference.com/teams/rav/2018/gamelog/\n",
            "https://www.pro-football-reference.com/teams/buf/2018/gamelog/\n",
            "https://www.pro-football-reference.com/teams/car/2018/gamelog/\n",
            "https://www.pro-football-reference.com/teams/chi/2018/gamelog/\n",
            "https://www.pro-football-reference.com/teams/cin/2018/gamelog/\n",
            "https://www.pro-football-reference.com/teams/cle/2018/gamelog/\n",
            "https://www.pro-football-reference.com/teams/dal/2018/gamelog/\n",
            "https://www.pro-football-reference.com/teams/den/2018/gamelog/\n",
            "https://www.pro-football-reference.com/teams/det/2018/gamelog/\n",
            "https://www.pro-football-reference.com/teams/gnb/2018/gamelog/\n",
            "https://www.pro-football-reference.com/teams/htx/2018/gamelog/\n",
            "https://www.pro-football-reference.com/teams/clt/2018/gamelog/\n",
            "https://www.pro-football-reference.com/teams/jax/2018/gamelog/\n",
            "https://www.pro-football-reference.com/teams/kan/2018/gamelog/\n",
            "https://www.pro-football-reference.com/teams/sdg/2018/gamelog/\n",
            "https://www.pro-football-reference.com/teams/ram/2018/gamelog/\n",
            "https://www.pro-football-reference.com/teams/rai/2018/gamelog/\n",
            "https://www.pro-football-reference.com/teams/mia/2018/gamelog/\n",
            "https://www.pro-football-reference.com/teams/min/2018/gamelog/\n",
            "https://www.pro-football-reference.com/teams/nwe/2018/gamelog/\n",
            "https://www.pro-football-reference.com/teams/nor/2018/gamelog/\n",
            "https://www.pro-football-reference.com/teams/nyg/2018/gamelog/\n",
            "https://www.pro-football-reference.com/teams/nyj/2018/gamelog/\n",
            "https://www.pro-football-reference.com/teams/phi/2018/gamelog/\n",
            "https://www.pro-football-reference.com/teams/pit/2018/gamelog/\n",
            "https://www.pro-football-reference.com/teams/sea/2018/gamelog/\n",
            "https://www.pro-football-reference.com/teams/sfo/2018/gamelog/\n",
            "https://www.pro-football-reference.com/teams/tam/2018/gamelog/\n",
            "https://www.pro-football-reference.com/teams/oti/2018/gamelog/\n",
            "https://www.pro-football-reference.com/teams/was/2018/gamelog/\n",
            "https://www.pro-football-reference.com/teams/crd/2019/gamelog/\n",
            "https://www.pro-football-reference.com/teams/atl/2019/gamelog/\n",
            "https://www.pro-football-reference.com/teams/rav/2019/gamelog/\n",
            "https://www.pro-football-reference.com/teams/buf/2019/gamelog/\n",
            "https://www.pro-football-reference.com/teams/car/2019/gamelog/\n",
            "https://www.pro-football-reference.com/teams/chi/2019/gamelog/\n",
            "https://www.pro-football-reference.com/teams/cin/2019/gamelog/\n",
            "https://www.pro-football-reference.com/teams/cle/2019/gamelog/\n",
            "https://www.pro-football-reference.com/teams/dal/2019/gamelog/\n",
            "https://www.pro-football-reference.com/teams/den/2019/gamelog/\n",
            "https://www.pro-football-reference.com/teams/det/2019/gamelog/\n",
            "https://www.pro-football-reference.com/teams/gnb/2019/gamelog/\n",
            "https://www.pro-football-reference.com/teams/htx/2019/gamelog/\n",
            "https://www.pro-football-reference.com/teams/clt/2019/gamelog/\n",
            "https://www.pro-football-reference.com/teams/jax/2019/gamelog/\n",
            "https://www.pro-football-reference.com/teams/kan/2019/gamelog/\n",
            "https://www.pro-football-reference.com/teams/sdg/2019/gamelog/\n",
            "https://www.pro-football-reference.com/teams/ram/2019/gamelog/\n",
            "https://www.pro-football-reference.com/teams/rai/2019/gamelog/\n",
            "https://www.pro-football-reference.com/teams/mia/2019/gamelog/\n",
            "https://www.pro-football-reference.com/teams/min/2019/gamelog/\n",
            "https://www.pro-football-reference.com/teams/nwe/2019/gamelog/\n",
            "https://www.pro-football-reference.com/teams/nor/2019/gamelog/\n",
            "https://www.pro-football-reference.com/teams/nyg/2019/gamelog/\n",
            "https://www.pro-football-reference.com/teams/nyj/2019/gamelog/\n",
            "https://www.pro-football-reference.com/teams/phi/2019/gamelog/\n",
            "https://www.pro-football-reference.com/teams/pit/2019/gamelog/\n",
            "https://www.pro-football-reference.com/teams/sea/2019/gamelog/\n",
            "https://www.pro-football-reference.com/teams/sfo/2019/gamelog/\n",
            "https://www.pro-football-reference.com/teams/tam/2019/gamelog/\n",
            "https://www.pro-football-reference.com/teams/oti/2019/gamelog/\n",
            "https://www.pro-football-reference.com/teams/was/2019/gamelog/\n",
            "https://www.pro-football-reference.com/teams/crd/2020/gamelog/\n",
            "https://www.pro-football-reference.com/teams/atl/2020/gamelog/\n",
            "https://www.pro-football-reference.com/teams/rav/2020/gamelog/\n",
            "https://www.pro-football-reference.com/teams/buf/2020/gamelog/\n",
            "https://www.pro-football-reference.com/teams/car/2020/gamelog/\n",
            "https://www.pro-football-reference.com/teams/chi/2020/gamelog/\n",
            "https://www.pro-football-reference.com/teams/cin/2020/gamelog/\n",
            "https://www.pro-football-reference.com/teams/cle/2020/gamelog/\n",
            "https://www.pro-football-reference.com/teams/dal/2020/gamelog/\n",
            "https://www.pro-football-reference.com/teams/den/2020/gamelog/\n",
            "https://www.pro-football-reference.com/teams/det/2020/gamelog/\n",
            "https://www.pro-football-reference.com/teams/gnb/2020/gamelog/\n",
            "https://www.pro-football-reference.com/teams/htx/2020/gamelog/\n",
            "https://www.pro-football-reference.com/teams/clt/2020/gamelog/\n",
            "https://www.pro-football-reference.com/teams/jax/2020/gamelog/\n",
            "https://www.pro-football-reference.com/teams/kan/2020/gamelog/\n",
            "https://www.pro-football-reference.com/teams/sdg/2020/gamelog/\n",
            "https://www.pro-football-reference.com/teams/ram/2020/gamelog/\n",
            "https://www.pro-football-reference.com/teams/rai/2020/gamelog/\n",
            "https://www.pro-football-reference.com/teams/mia/2020/gamelog/\n",
            "https://www.pro-football-reference.com/teams/min/2020/gamelog/\n",
            "https://www.pro-football-reference.com/teams/nwe/2020/gamelog/\n",
            "https://www.pro-football-reference.com/teams/nor/2020/gamelog/\n",
            "https://www.pro-football-reference.com/teams/nyg/2020/gamelog/\n",
            "https://www.pro-football-reference.com/teams/nyj/2020/gamelog/\n",
            "https://www.pro-football-reference.com/teams/phi/2020/gamelog/\n",
            "https://www.pro-football-reference.com/teams/pit/2020/gamelog/\n",
            "https://www.pro-football-reference.com/teams/sea/2020/gamelog/\n",
            "https://www.pro-football-reference.com/teams/sfo/2020/gamelog/\n",
            "https://www.pro-football-reference.com/teams/tam/2020/gamelog/\n",
            "https://www.pro-football-reference.com/teams/oti/2020/gamelog/\n",
            "https://www.pro-football-reference.com/teams/was/2020/gamelog/\n",
            "https://www.pro-football-reference.com/teams/crd/2021/gamelog/\n",
            "https://www.pro-football-reference.com/teams/atl/2021/gamelog/\n",
            "https://www.pro-football-reference.com/teams/rav/2021/gamelog/\n",
            "https://www.pro-football-reference.com/teams/buf/2021/gamelog/\n",
            "https://www.pro-football-reference.com/teams/car/2021/gamelog/\n",
            "https://www.pro-football-reference.com/teams/chi/2021/gamelog/\n",
            "https://www.pro-football-reference.com/teams/cin/2021/gamelog/\n",
            "https://www.pro-football-reference.com/teams/cle/2021/gamelog/\n",
            "https://www.pro-football-reference.com/teams/dal/2021/gamelog/\n",
            "https://www.pro-football-reference.com/teams/den/2021/gamelog/\n",
            "https://www.pro-football-reference.com/teams/det/2021/gamelog/\n",
            "https://www.pro-football-reference.com/teams/gnb/2021/gamelog/\n",
            "https://www.pro-football-reference.com/teams/htx/2021/gamelog/\n",
            "https://www.pro-football-reference.com/teams/clt/2021/gamelog/\n",
            "https://www.pro-football-reference.com/teams/jax/2021/gamelog/\n",
            "https://www.pro-football-reference.com/teams/kan/2021/gamelog/\n",
            "https://www.pro-football-reference.com/teams/sdg/2021/gamelog/\n",
            "https://www.pro-football-reference.com/teams/ram/2021/gamelog/\n",
            "https://www.pro-football-reference.com/teams/rai/2021/gamelog/\n",
            "https://www.pro-football-reference.com/teams/mia/2021/gamelog/\n",
            "https://www.pro-football-reference.com/teams/min/2021/gamelog/\n",
            "https://www.pro-football-reference.com/teams/nwe/2021/gamelog/\n",
            "https://www.pro-football-reference.com/teams/nor/2021/gamelog/\n",
            "https://www.pro-football-reference.com/teams/nyg/2021/gamelog/\n",
            "https://www.pro-football-reference.com/teams/nyj/2021/gamelog/\n",
            "https://www.pro-football-reference.com/teams/phi/2021/gamelog/\n",
            "https://www.pro-football-reference.com/teams/pit/2021/gamelog/\n",
            "https://www.pro-football-reference.com/teams/sea/2021/gamelog/\n",
            "https://www.pro-football-reference.com/teams/sfo/2021/gamelog/\n",
            "https://www.pro-football-reference.com/teams/tam/2021/gamelog/\n",
            "https://www.pro-football-reference.com/teams/oti/2021/gamelog/\n",
            "https://www.pro-football-reference.com/teams/was/2021/gamelog/\n",
            "https://www.pro-football-reference.com/teams/crd/2022/gamelog/\n",
            "https://www.pro-football-reference.com/teams/atl/2022/gamelog/\n",
            "https://www.pro-football-reference.com/teams/rav/2022/gamelog/\n",
            "https://www.pro-football-reference.com/teams/buf/2022/gamelog/\n",
            "https://www.pro-football-reference.com/teams/car/2022/gamelog/\n",
            "https://www.pro-football-reference.com/teams/chi/2022/gamelog/\n",
            "https://www.pro-football-reference.com/teams/cin/2022/gamelog/\n",
            "https://www.pro-football-reference.com/teams/cle/2022/gamelog/\n",
            "https://www.pro-football-reference.com/teams/dal/2022/gamelog/\n",
            "https://www.pro-football-reference.com/teams/den/2022/gamelog/\n",
            "https://www.pro-football-reference.com/teams/det/2022/gamelog/\n",
            "https://www.pro-football-reference.com/teams/gnb/2022/gamelog/\n",
            "https://www.pro-football-reference.com/teams/htx/2022/gamelog/\n",
            "https://www.pro-football-reference.com/teams/clt/2022/gamelog/\n",
            "https://www.pro-football-reference.com/teams/jax/2022/gamelog/\n",
            "https://www.pro-football-reference.com/teams/kan/2022/gamelog/\n",
            "https://www.pro-football-reference.com/teams/sdg/2022/gamelog/\n",
            "https://www.pro-football-reference.com/teams/ram/2022/gamelog/\n",
            "https://www.pro-football-reference.com/teams/rai/2022/gamelog/\n",
            "https://www.pro-football-reference.com/teams/mia/2022/gamelog/\n",
            "https://www.pro-football-reference.com/teams/min/2022/gamelog/\n",
            "https://www.pro-football-reference.com/teams/nwe/2022/gamelog/\n",
            "https://www.pro-football-reference.com/teams/nor/2022/gamelog/\n",
            "https://www.pro-football-reference.com/teams/nyg/2022/gamelog/\n",
            "https://www.pro-football-reference.com/teams/nyj/2022/gamelog/\n",
            "https://www.pro-football-reference.com/teams/phi/2022/gamelog/\n",
            "https://www.pro-football-reference.com/teams/pit/2022/gamelog/\n",
            "https://www.pro-football-reference.com/teams/sea/2022/gamelog/\n",
            "https://www.pro-football-reference.com/teams/sfo/2022/gamelog/\n",
            "https://www.pro-football-reference.com/teams/tam/2022/gamelog/\n",
            "https://www.pro-football-reference.com/teams/oti/2022/gamelog/\n",
            "https://www.pro-football-reference.com/teams/was/2022/gamelog/\n",
            "     Season  Week Team  Day          Date Unnamed: 3 Unnamed: 4   OT  \\\n",
            "0      2014     1  CRD  Mon   September 8   boxscore          W  NaN   \n",
            "1      2014     2  CRD  Sun  September 14   boxscore          W  NaN   \n",
            "2      2014     3  CRD  Sun  September 21   boxscore          W  NaN   \n",
            "3      2014     5  CRD  Sun     October 5   boxscore          L  NaN   \n",
            "4      2014     6  CRD  Sun    October 12   boxscore          W  NaN   \n",
            "...     ...   ...  ...  ...           ...        ...        ...  ...   \n",
            "4665   2022    13  WAS  Sun    December 4   boxscore          T   OT   \n",
            "4666   2022    15  WAS  Sun   December 18   boxscore          L  NaN   \n",
            "4667   2022    16  WAS  Sat   December 24   boxscore          L  NaN   \n",
            "4668   2022    17  WAS  Sun     January 1   boxscore          L  NaN   \n",
            "4669   2022    18  WAS  Sun     January 8   boxscore          W  NaN   \n",
            "\n",
            "     Unnamed: 6                  Opp  ...  FGA  XPM  XPA  Pnt  Yds.3  3DConv  \\\n",
            "0           NaN   San Diego Chargers  ...    1    2    2    6    236       6   \n",
            "1             @      New York Giants  ...    0    2    2    4    177       6   \n",
            "2           NaN  San Francisco 49ers  ...    1    2    2    4    174       6   \n",
            "3             @       Denver Broncos  ...    3    5    5    4    199       7   \n",
            "4           NaN  Washington Redskins  ...    2    2    2    5    237       2   \n",
            "...         ...                  ...  ...  ...  ...  ...  ...    ...     ...   \n",
            "4665          @      New York Giants  ...    3    2    2    7    324       4   \n",
            "4666        NaN      New York Giants  ...    2    2    2    5    213       2   \n",
            "4667          @  San Francisco 49ers  ...    3    4    4    2     80       4   \n",
            "4668        NaN     Cleveland Browns  ...    1    3    3    4    187       4   \n",
            "4669        NaN       Dallas Cowboys  ...    0    0    1   10    478       4   \n",
            "\n",
            "      3DAtt  4DConv  4DAtt    ToP  \n",
            "0        15       0      1  28:11  \n",
            "1        12       0      1  32:29  \n",
            "2        12       1      1  32:20  \n",
            "3        16       0      0  35:17  \n",
            "4        10       1      1  25:41  \n",
            "...     ...     ...    ...    ...  \n",
            "4665     13       0      0  28:49  \n",
            "4666     10       1      1  30:30  \n",
            "4667     11       1      2  26:25  \n",
            "4668     11       1      2  26:28  \n",
            "4669     18       1      3  23:48  \n",
            "\n",
            "[4670 rows x 74 columns]\n"
          ]
        }
      ],
      "source": [
        "#scrape gamelog data\n",
        "\n",
        "#import libraries\n",
        "import random\n",
        "import time\n",
        "\n",
        "#create empty dataframe to append\n",
        "nfl_df = pd.DataFrame()\n",
        "\n",
        "#iterate through seasons\n",
        "for season in seasons:\n",
        "  #iterate through teams\n",
        "  for team in teams:\n",
        "    #set url\n",
        "    url = 'https://www.pro-football-reference.com/teams/' + team + '/' + season + '/gamelog/'\n",
        "    print(url)\n",
        "\n",
        "    #get offensive stats\n",
        "    off_df = pd.read_html(url, header=1, attrs={'id':'gamelog' + season})[0]\n",
        "\n",
        "    #get defensive stats\n",
        "    def_df = pd.read_html(url, header=1, attrs={'id':'gamelog_opp' + season})[0]\n",
        "\n",
        "    #concatenate the dataframes\n",
        "    team_df = pd.concat([off_df, def_df], axis=1)\n",
        "\n",
        "    #insert season into dataframe\n",
        "    team_df.insert(loc=0, column='Season', value=season)\n",
        "\n",
        "    #insert team column\n",
        "    team_df.insert(loc=2, column='Team', value=team.upper())\n",
        "\n",
        "    #concatenate team gamelog to aggregate dataframe\n",
        "    nfl_df = pd.concat([nfl_df, team_df], ignore_index=True)\n",
        "    #print(nfl_team_df)\n",
        "\n",
        "    #pause program to abide by website rules\n",
        "    time.sleep(random.randint(4, 5))\n",
        "\n",
        "#display aggregate dataframe\n",
        "print(nfl_df)"
      ]
    },
    {
      "cell_type": "code",
      "execution_count": null,
      "metadata": {
        "id": "4vntsfethHwu"
      },
      "outputs": [],
      "source": [
        "#save data to csv file\n",
        "nfl_df.to_csv('nfl_gamelogs_2014-2023.csv', index=False)"
      ]
    },
    {
      "cell_type": "code",
      "execution_count": null,
      "metadata": {
        "colab": {
          "base_uri": "https://localhost:8080/"
        },
        "id": "ELJEWM63oIvh",
        "outputId": "24354e3b-0079-41d8-e91d-a8c5bfba3d48"
      },
      "outputs": [
        {
          "name": "stdout",
          "output_type": "stream",
          "text": [
            "(4670, 74)\n"
          ]
        }
      ],
      "source": [
        "#relod dataframe\n",
        "nfl_df = pd.read_csv('nfl_gamelogs_2014-2023.csv')\n",
        "\n",
        "#display shape\n",
        "print(nfl_df.shape)"
      ]
    },
    {
      "cell_type": "code",
      "execution_count": null,
      "metadata": {
        "id": "5tKo3jcbor70"
      },
      "outputs": [],
      "source": [
        "#drop some columns and rename dataframe\n",
        "nfl_pts_df = nfl_df.drop(nfl_df.columns[12:], axis=1)\n",
        "nfl_pts_df = nfl_pts_df.drop(nfl_pts_df.columns[5:6], axis=1)"
      ]
    },
    {
      "cell_type": "code",
      "execution_count": null,
      "metadata": {
        "colab": {
          "base_uri": "https://localhost:8080/"
        },
        "id": "JuCILwOxpEWO",
        "outputId": "3908b9f5-003c-4039-c317-03dc30727260"
      },
      "outputs": [
        {
          "name": "stdout",
          "output_type": "stream",
          "text": [
            "(4670, 11)\n"
          ]
        }
      ],
      "source": [
        "#display nfl_pts_df shape\n",
        "print(nfl_pts_df.shape)"
      ]
    },
    {
      "cell_type": "code",
      "execution_count": null,
      "metadata": {
        "colab": {
          "base_uri": "https://localhost:8080/"
        },
        "id": "ANZU4pPnpRIB",
        "outputId": "da6bcaa2-e990-473b-9d2f-ad3b8429e6c7"
      },
      "outputs": [
        {
          "name": "stdout",
          "output_type": "stream",
          "text": [
            "<class 'pandas.core.frame.DataFrame'>\n",
            "RangeIndex: 4670 entries, 0 to 4669\n",
            "Data columns (total 11 columns):\n",
            " #   Column   Non-Null Count  Dtype \n",
            "---  ------   --------------  ----- \n",
            " 0   Season   4670 non-null   int64 \n",
            " 1   Week     4670 non-null   int64 \n",
            " 2   Team     4670 non-null   object\n",
            " 3   Day      4670 non-null   object\n",
            " 4   Date     4670 non-null   object\n",
            " 5   Win      4670 non-null   object\n",
            " 6   OT       268 non-null    object\n",
            " 7   Home     2335 non-null   object\n",
            " 8   Opp      4670 non-null   object\n",
            " 9   Off_Pts  4670 non-null   int64 \n",
            " 10  Def_Pts  4670 non-null   int64 \n",
            "dtypes: int64(4), object(7)\n",
            "memory usage: 401.5+ KB\n",
            "None\n"
          ]
        }
      ],
      "source": [
        "#rename some columns\n",
        "column_names = {'Unnamed: 4':'Win', 'Unnamed: 6':'Home', 'Tm':'Off_Pts', 'Opp.1':'Def_Pts'}\n",
        "nfl_pts_df = nfl_pts_df.rename(columns=column_names)\n",
        "print(nfl_pts_df.info(verbose=True))"
      ]
    },
    {
      "cell_type": "code",
      "execution_count": null,
      "metadata": {
        "id": "sOMvJ04HqGkm"
      },
      "outputs": [],
      "source": [
        "#map 'opp' to 3 letter abbreviations\n",
        "team_dict = {'Arizona Cardinals':'CRD', 'Atlanta Falcons':'ATL', 'Baltimore Ravens':'RAV',\n",
        "             'Buffalo Bills':'BUF', 'Carolina Panthers':'CAR', 'Chicago Bears':'CHI',\n",
        "             'Cincinnati Bengals':'CIN', 'Cleveland Browns':'CLE', 'Dallas Cowboys':'DAL',\n",
        "             'Denver Broncos':'DEN', 'Detroit Lions':'DET', 'Green Bay Packers':'GNB',\n",
        "             'Houston Texans':'HTX', 'Indianapolis Colts':'CLT', 'Jacksonville Jaguars':'JAX',\n",
        "             'Kansas City Chiefs':'KAN', 'Los Angeles Chargers':'SDG', 'Los Angeles Rams':'RAM',\n",
        "             'Las Vegas Raiders':'RAI', 'Oakland Raiders':'RAI', 'Miami Dolphins':'MIA',\n",
        "             'Minnesota Vikings':'MIN', 'New England Patriots':'NWE', 'New Orleans Saints':'NOR',\n",
        "             'New York Giants':'NYG', 'New York Jets':'NYJ', 'Philadelphia Eagles':'PHI',\n",
        "             'Pittsburgh Steelers':'PIT', 'St. Louis Rams':'RAM', 'San Diego Chargers':'SDG',\n",
        "             'San Francisco 49ers':'SFO', 'Seattle Seahawks':'SEA', 'Tampa Bay Buccaneers':'TAM',\n",
        "             'Tennessee Titans':'OTI', 'Washington Commanders':'WAS', 'Washington Football Team':'WAS',\n",
        "             'Washington Redskins':'WAS'}\n",
        "nfl_pts_df = nfl_pts_df.replace({'Opp': team_dict})"
      ]
    },
    {
      "cell_type": "code",
      "execution_count": null,
      "metadata": {
        "id": "xE3FAtxytC8x"
      },
      "outputs": [],
      "source": [
        "#convert 'win' column to 1 = win or 0 = loss\n",
        "nfl_pts_df['Win'] = nfl_pts_df['Win'].apply(lambda x: 1 if x == 'W' else 0)\n",
        "\n",
        "#convert 'ot' column to 1 = ot or 0 = no ot\n",
        "nfl_pts_df['OT'] = nfl_pts_df['OT'].apply(lambda x: 1 if x == 'OT' else 0)\n",
        "\n",
        "#convert 'home' column to 1 = home or 0 = away\n",
        "nfl_pts_df['Home'] = nfl_pts_df['Home'].apply(lambda x: 1 if x == '@' else 0)"
      ]
    },
    {
      "cell_type": "code",
      "execution_count": null,
      "metadata": {
        "colab": {
          "base_uri": "https://localhost:8080/"
        },
        "id": "C5NzbxTrtkhG",
        "outputId": "24b35e74-e96c-430d-af0c-779cbba7b79e"
      },
      "outputs": [
        {
          "name": "stdout",
          "output_type": "stream",
          "text": [
            "      Season  Week Team  Day          Date  Win  OT  Home  Opp  Off_Pts  \\\n",
            "0       2014     1  CRD  Mon   September 8    1   0     0  SDG       18   \n",
            "1       2014     2  CRD  Sun  September 14    1   0     1  NYG       25   \n",
            "2       2014     3  CRD  Sun  September 21    1   0     0  SFO       23   \n",
            "3       2014     5  CRD  Sun     October 5    0   0     1  DEN       20   \n",
            "4       2014     6  CRD  Sun    October 12    1   0     0  WAS       30   \n",
            "...      ...   ...  ...  ...           ...  ...  ..   ...  ...      ...   \n",
            "4665    2022    13  WAS  Sun    December 4    0   1     1  NYG       20   \n",
            "4666    2022    15  WAS  Sun   December 18    0   0     0  NYG       12   \n",
            "4667    2022    16  WAS  Sat   December 24    0   0     1  SFO       20   \n",
            "4668    2022    17  WAS  Sun     January 1    0   0     0  CLE       10   \n",
            "4669    2022    18  WAS  Sun     January 8    1   0     0  DAL       26   \n",
            "\n",
            "      Def_Pts  \n",
            "0          17  \n",
            "1          14  \n",
            "2          14  \n",
            "3          41  \n",
            "4          20  \n",
            "...       ...  \n",
            "4665       20  \n",
            "4666       20  \n",
            "4667       37  \n",
            "4668       24  \n",
            "4669        6  \n",
            "\n",
            "[4670 rows x 11 columns]\n"
          ]
        }
      ],
      "source": [
        "#display dataframe\n",
        "print(nfl_pts_df)"
      ]
    },
    {
      "cell_type": "code",
      "execution_count": null,
      "metadata": {
        "colab": {
          "base_uri": "https://localhost:8080/"
        },
        "id": "AxlQj_zmtzQq",
        "outputId": "e49a2f10-a31a-42c2-fb10-45633fc25e7a"
      },
      "outputs": [
        {
          "name": "stdout",
          "output_type": "stream",
          "text": [
            "https://www.pro-football-reference.com/teams/crd/2014_lines.htm\n",
            "https://www.pro-football-reference.com/teams/atl/2014_lines.htm\n",
            "https://www.pro-football-reference.com/teams/rav/2014_lines.htm\n",
            "https://www.pro-football-reference.com/teams/buf/2014_lines.htm\n",
            "https://www.pro-football-reference.com/teams/car/2014_lines.htm\n",
            "https://www.pro-football-reference.com/teams/chi/2014_lines.htm\n",
            "https://www.pro-football-reference.com/teams/cin/2014_lines.htm\n",
            "https://www.pro-football-reference.com/teams/cle/2014_lines.htm\n",
            "https://www.pro-football-reference.com/teams/dal/2014_lines.htm\n",
            "https://www.pro-football-reference.com/teams/den/2014_lines.htm\n",
            "https://www.pro-football-reference.com/teams/det/2014_lines.htm\n",
            "https://www.pro-football-reference.com/teams/gnb/2014_lines.htm\n",
            "https://www.pro-football-reference.com/teams/htx/2014_lines.htm\n",
            "https://www.pro-football-reference.com/teams/clt/2014_lines.htm\n",
            "https://www.pro-football-reference.com/teams/jax/2014_lines.htm\n",
            "https://www.pro-football-reference.com/teams/kan/2014_lines.htm\n",
            "https://www.pro-football-reference.com/teams/sdg/2014_lines.htm\n",
            "https://www.pro-football-reference.com/teams/ram/2014_lines.htm\n",
            "https://www.pro-football-reference.com/teams/rai/2014_lines.htm\n",
            "https://www.pro-football-reference.com/teams/mia/2014_lines.htm\n",
            "https://www.pro-football-reference.com/teams/min/2014_lines.htm\n",
            "https://www.pro-football-reference.com/teams/nwe/2014_lines.htm\n",
            "https://www.pro-football-reference.com/teams/nor/2014_lines.htm\n",
            "https://www.pro-football-reference.com/teams/nyg/2014_lines.htm\n",
            "https://www.pro-football-reference.com/teams/nyj/2014_lines.htm\n",
            "https://www.pro-football-reference.com/teams/phi/2014_lines.htm\n",
            "https://www.pro-football-reference.com/teams/pit/2014_lines.htm\n",
            "https://www.pro-football-reference.com/teams/sea/2014_lines.htm\n",
            "https://www.pro-football-reference.com/teams/sfo/2014_lines.htm\n",
            "https://www.pro-football-reference.com/teams/tam/2014_lines.htm\n",
            "https://www.pro-football-reference.com/teams/oti/2014_lines.htm\n",
            "https://www.pro-football-reference.com/teams/was/2014_lines.htm\n",
            "https://www.pro-football-reference.com/teams/crd/2015_lines.htm\n",
            "https://www.pro-football-reference.com/teams/atl/2015_lines.htm\n",
            "https://www.pro-football-reference.com/teams/rav/2015_lines.htm\n",
            "https://www.pro-football-reference.com/teams/buf/2015_lines.htm\n",
            "https://www.pro-football-reference.com/teams/car/2015_lines.htm\n",
            "https://www.pro-football-reference.com/teams/chi/2015_lines.htm\n",
            "https://www.pro-football-reference.com/teams/cin/2015_lines.htm\n",
            "https://www.pro-football-reference.com/teams/cle/2015_lines.htm\n",
            "https://www.pro-football-reference.com/teams/dal/2015_lines.htm\n",
            "https://www.pro-football-reference.com/teams/den/2015_lines.htm\n",
            "https://www.pro-football-reference.com/teams/det/2015_lines.htm\n",
            "https://www.pro-football-reference.com/teams/gnb/2015_lines.htm\n",
            "https://www.pro-football-reference.com/teams/htx/2015_lines.htm\n",
            "https://www.pro-football-reference.com/teams/clt/2015_lines.htm\n",
            "https://www.pro-football-reference.com/teams/jax/2015_lines.htm\n",
            "https://www.pro-football-reference.com/teams/kan/2015_lines.htm\n",
            "https://www.pro-football-reference.com/teams/sdg/2015_lines.htm\n",
            "https://www.pro-football-reference.com/teams/ram/2015_lines.htm\n",
            "https://www.pro-football-reference.com/teams/rai/2015_lines.htm\n",
            "https://www.pro-football-reference.com/teams/mia/2015_lines.htm\n",
            "https://www.pro-football-reference.com/teams/min/2015_lines.htm\n",
            "https://www.pro-football-reference.com/teams/nwe/2015_lines.htm\n",
            "https://www.pro-football-reference.com/teams/nor/2015_lines.htm\n",
            "https://www.pro-football-reference.com/teams/nyg/2015_lines.htm\n",
            "https://www.pro-football-reference.com/teams/nyj/2015_lines.htm\n",
            "https://www.pro-football-reference.com/teams/phi/2015_lines.htm\n",
            "https://www.pro-football-reference.com/teams/pit/2015_lines.htm\n",
            "https://www.pro-football-reference.com/teams/sea/2015_lines.htm\n",
            "https://www.pro-football-reference.com/teams/sfo/2015_lines.htm\n",
            "https://www.pro-football-reference.com/teams/tam/2015_lines.htm\n",
            "https://www.pro-football-reference.com/teams/oti/2015_lines.htm\n",
            "https://www.pro-football-reference.com/teams/was/2015_lines.htm\n",
            "https://www.pro-football-reference.com/teams/crd/2016_lines.htm\n",
            "https://www.pro-football-reference.com/teams/atl/2016_lines.htm\n",
            "https://www.pro-football-reference.com/teams/rav/2016_lines.htm\n",
            "https://www.pro-football-reference.com/teams/buf/2016_lines.htm\n",
            "https://www.pro-football-reference.com/teams/car/2016_lines.htm\n",
            "https://www.pro-football-reference.com/teams/chi/2016_lines.htm\n",
            "https://www.pro-football-reference.com/teams/cin/2016_lines.htm\n",
            "https://www.pro-football-reference.com/teams/cle/2016_lines.htm\n",
            "https://www.pro-football-reference.com/teams/dal/2016_lines.htm\n",
            "https://www.pro-football-reference.com/teams/den/2016_lines.htm\n",
            "https://www.pro-football-reference.com/teams/det/2016_lines.htm\n",
            "https://www.pro-football-reference.com/teams/gnb/2016_lines.htm\n",
            "https://www.pro-football-reference.com/teams/htx/2016_lines.htm\n",
            "https://www.pro-football-reference.com/teams/clt/2016_lines.htm\n",
            "https://www.pro-football-reference.com/teams/jax/2016_lines.htm\n",
            "https://www.pro-football-reference.com/teams/kan/2016_lines.htm\n",
            "https://www.pro-football-reference.com/teams/sdg/2016_lines.htm\n",
            "https://www.pro-football-reference.com/teams/ram/2016_lines.htm\n",
            "https://www.pro-football-reference.com/teams/rai/2016_lines.htm\n",
            "https://www.pro-football-reference.com/teams/mia/2016_lines.htm\n",
            "https://www.pro-football-reference.com/teams/min/2016_lines.htm\n",
            "https://www.pro-football-reference.com/teams/nwe/2016_lines.htm\n",
            "https://www.pro-football-reference.com/teams/nor/2016_lines.htm\n",
            "https://www.pro-football-reference.com/teams/nyg/2016_lines.htm\n",
            "https://www.pro-football-reference.com/teams/nyj/2016_lines.htm\n",
            "https://www.pro-football-reference.com/teams/phi/2016_lines.htm\n",
            "https://www.pro-football-reference.com/teams/pit/2016_lines.htm\n",
            "https://www.pro-football-reference.com/teams/sea/2016_lines.htm\n",
            "https://www.pro-football-reference.com/teams/sfo/2016_lines.htm\n",
            "https://www.pro-football-reference.com/teams/tam/2016_lines.htm\n",
            "https://www.pro-football-reference.com/teams/oti/2016_lines.htm\n",
            "https://www.pro-football-reference.com/teams/was/2016_lines.htm\n",
            "https://www.pro-football-reference.com/teams/crd/2017_lines.htm\n",
            "https://www.pro-football-reference.com/teams/atl/2017_lines.htm\n",
            "https://www.pro-football-reference.com/teams/rav/2017_lines.htm\n",
            "https://www.pro-football-reference.com/teams/buf/2017_lines.htm\n",
            "https://www.pro-football-reference.com/teams/car/2017_lines.htm\n",
            "https://www.pro-football-reference.com/teams/chi/2017_lines.htm\n",
            "https://www.pro-football-reference.com/teams/cin/2017_lines.htm\n",
            "https://www.pro-football-reference.com/teams/cle/2017_lines.htm\n",
            "https://www.pro-football-reference.com/teams/dal/2017_lines.htm\n",
            "https://www.pro-football-reference.com/teams/den/2017_lines.htm\n",
            "https://www.pro-football-reference.com/teams/det/2017_lines.htm\n",
            "https://www.pro-football-reference.com/teams/gnb/2017_lines.htm\n",
            "https://www.pro-football-reference.com/teams/htx/2017_lines.htm\n",
            "https://www.pro-football-reference.com/teams/clt/2017_lines.htm\n",
            "https://www.pro-football-reference.com/teams/jax/2017_lines.htm\n",
            "https://www.pro-football-reference.com/teams/kan/2017_lines.htm\n",
            "https://www.pro-football-reference.com/teams/sdg/2017_lines.htm\n",
            "https://www.pro-football-reference.com/teams/ram/2017_lines.htm\n",
            "https://www.pro-football-reference.com/teams/rai/2017_lines.htm\n",
            "https://www.pro-football-reference.com/teams/mia/2017_lines.htm\n",
            "https://www.pro-football-reference.com/teams/min/2017_lines.htm\n",
            "https://www.pro-football-reference.com/teams/nwe/2017_lines.htm\n",
            "https://www.pro-football-reference.com/teams/nor/2017_lines.htm\n",
            "https://www.pro-football-reference.com/teams/nyg/2017_lines.htm\n",
            "https://www.pro-football-reference.com/teams/nyj/2017_lines.htm\n",
            "https://www.pro-football-reference.com/teams/phi/2017_lines.htm\n",
            "https://www.pro-football-reference.com/teams/pit/2017_lines.htm\n",
            "https://www.pro-football-reference.com/teams/sea/2017_lines.htm\n",
            "https://www.pro-football-reference.com/teams/sfo/2017_lines.htm\n",
            "https://www.pro-football-reference.com/teams/tam/2017_lines.htm\n",
            "https://www.pro-football-reference.com/teams/oti/2017_lines.htm\n",
            "https://www.pro-football-reference.com/teams/was/2017_lines.htm\n",
            "https://www.pro-football-reference.com/teams/crd/2018_lines.htm\n",
            "https://www.pro-football-reference.com/teams/atl/2018_lines.htm\n",
            "https://www.pro-football-reference.com/teams/rav/2018_lines.htm\n",
            "https://www.pro-football-reference.com/teams/buf/2018_lines.htm\n",
            "https://www.pro-football-reference.com/teams/car/2018_lines.htm\n",
            "https://www.pro-football-reference.com/teams/chi/2018_lines.htm\n",
            "https://www.pro-football-reference.com/teams/cin/2018_lines.htm\n",
            "https://www.pro-football-reference.com/teams/cle/2018_lines.htm\n",
            "https://www.pro-football-reference.com/teams/dal/2018_lines.htm\n",
            "https://www.pro-football-reference.com/teams/den/2018_lines.htm\n",
            "https://www.pro-football-reference.com/teams/det/2018_lines.htm\n",
            "https://www.pro-football-reference.com/teams/gnb/2018_lines.htm\n",
            "https://www.pro-football-reference.com/teams/htx/2018_lines.htm\n",
            "https://www.pro-football-reference.com/teams/clt/2018_lines.htm\n",
            "https://www.pro-football-reference.com/teams/jax/2018_lines.htm\n",
            "https://www.pro-football-reference.com/teams/kan/2018_lines.htm\n",
            "https://www.pro-football-reference.com/teams/sdg/2018_lines.htm\n",
            "https://www.pro-football-reference.com/teams/ram/2018_lines.htm\n",
            "https://www.pro-football-reference.com/teams/rai/2018_lines.htm\n",
            "https://www.pro-football-reference.com/teams/mia/2018_lines.htm\n",
            "https://www.pro-football-reference.com/teams/min/2018_lines.htm\n",
            "https://www.pro-football-reference.com/teams/nwe/2018_lines.htm\n",
            "https://www.pro-football-reference.com/teams/nor/2018_lines.htm\n",
            "https://www.pro-football-reference.com/teams/nyg/2018_lines.htm\n",
            "https://www.pro-football-reference.com/teams/nyj/2018_lines.htm\n",
            "https://www.pro-football-reference.com/teams/phi/2018_lines.htm\n",
            "https://www.pro-football-reference.com/teams/pit/2018_lines.htm\n",
            "https://www.pro-football-reference.com/teams/sea/2018_lines.htm\n",
            "https://www.pro-football-reference.com/teams/sfo/2018_lines.htm\n",
            "https://www.pro-football-reference.com/teams/tam/2018_lines.htm\n",
            "https://www.pro-football-reference.com/teams/oti/2018_lines.htm\n",
            "https://www.pro-football-reference.com/teams/was/2018_lines.htm\n",
            "https://www.pro-football-reference.com/teams/crd/2019_lines.htm\n",
            "https://www.pro-football-reference.com/teams/atl/2019_lines.htm\n",
            "https://www.pro-football-reference.com/teams/rav/2019_lines.htm\n",
            "https://www.pro-football-reference.com/teams/buf/2019_lines.htm\n",
            "https://www.pro-football-reference.com/teams/car/2019_lines.htm\n",
            "https://www.pro-football-reference.com/teams/chi/2019_lines.htm\n",
            "https://www.pro-football-reference.com/teams/cin/2019_lines.htm\n",
            "https://www.pro-football-reference.com/teams/cle/2019_lines.htm\n",
            "https://www.pro-football-reference.com/teams/dal/2019_lines.htm\n",
            "https://www.pro-football-reference.com/teams/den/2019_lines.htm\n",
            "https://www.pro-football-reference.com/teams/det/2019_lines.htm\n",
            "https://www.pro-football-reference.com/teams/gnb/2019_lines.htm\n",
            "https://www.pro-football-reference.com/teams/htx/2019_lines.htm\n",
            "https://www.pro-football-reference.com/teams/clt/2019_lines.htm\n",
            "https://www.pro-football-reference.com/teams/jax/2019_lines.htm\n",
            "https://www.pro-football-reference.com/teams/kan/2019_lines.htm\n",
            "https://www.pro-football-reference.com/teams/sdg/2019_lines.htm\n",
            "https://www.pro-football-reference.com/teams/ram/2019_lines.htm\n",
            "https://www.pro-football-reference.com/teams/rai/2019_lines.htm\n",
            "https://www.pro-football-reference.com/teams/mia/2019_lines.htm\n",
            "https://www.pro-football-reference.com/teams/min/2019_lines.htm\n",
            "https://www.pro-football-reference.com/teams/nwe/2019_lines.htm\n",
            "https://www.pro-football-reference.com/teams/nor/2019_lines.htm\n",
            "https://www.pro-football-reference.com/teams/nyg/2019_lines.htm\n",
            "https://www.pro-football-reference.com/teams/nyj/2019_lines.htm\n",
            "https://www.pro-football-reference.com/teams/phi/2019_lines.htm\n",
            "https://www.pro-football-reference.com/teams/pit/2019_lines.htm\n",
            "https://www.pro-football-reference.com/teams/sea/2019_lines.htm\n",
            "https://www.pro-football-reference.com/teams/sfo/2019_lines.htm\n",
            "https://www.pro-football-reference.com/teams/tam/2019_lines.htm\n",
            "https://www.pro-football-reference.com/teams/oti/2019_lines.htm\n",
            "https://www.pro-football-reference.com/teams/was/2019_lines.htm\n",
            "https://www.pro-football-reference.com/teams/crd/2020_lines.htm\n",
            "https://www.pro-football-reference.com/teams/atl/2020_lines.htm\n",
            "https://www.pro-football-reference.com/teams/rav/2020_lines.htm\n",
            "https://www.pro-football-reference.com/teams/buf/2020_lines.htm\n",
            "https://www.pro-football-reference.com/teams/car/2020_lines.htm\n",
            "https://www.pro-football-reference.com/teams/chi/2020_lines.htm\n",
            "https://www.pro-football-reference.com/teams/cin/2020_lines.htm\n",
            "https://www.pro-football-reference.com/teams/cle/2020_lines.htm\n",
            "https://www.pro-football-reference.com/teams/dal/2020_lines.htm\n",
            "https://www.pro-football-reference.com/teams/den/2020_lines.htm\n",
            "https://www.pro-football-reference.com/teams/det/2020_lines.htm\n",
            "https://www.pro-football-reference.com/teams/gnb/2020_lines.htm\n",
            "https://www.pro-football-reference.com/teams/htx/2020_lines.htm\n",
            "https://www.pro-football-reference.com/teams/clt/2020_lines.htm\n",
            "https://www.pro-football-reference.com/teams/jax/2020_lines.htm\n",
            "https://www.pro-football-reference.com/teams/kan/2020_lines.htm\n",
            "https://www.pro-football-reference.com/teams/sdg/2020_lines.htm\n",
            "https://www.pro-football-reference.com/teams/ram/2020_lines.htm\n",
            "https://www.pro-football-reference.com/teams/rai/2020_lines.htm\n",
            "https://www.pro-football-reference.com/teams/mia/2020_lines.htm\n",
            "https://www.pro-football-reference.com/teams/min/2020_lines.htm\n",
            "https://www.pro-football-reference.com/teams/nwe/2020_lines.htm\n",
            "https://www.pro-football-reference.com/teams/nor/2020_lines.htm\n",
            "https://www.pro-football-reference.com/teams/nyg/2020_lines.htm\n",
            "https://www.pro-football-reference.com/teams/nyj/2020_lines.htm\n",
            "https://www.pro-football-reference.com/teams/phi/2020_lines.htm\n",
            "https://www.pro-football-reference.com/teams/pit/2020_lines.htm\n",
            "https://www.pro-football-reference.com/teams/sea/2020_lines.htm\n",
            "https://www.pro-football-reference.com/teams/sfo/2020_lines.htm\n",
            "https://www.pro-football-reference.com/teams/tam/2020_lines.htm\n",
            "https://www.pro-football-reference.com/teams/oti/2020_lines.htm\n",
            "https://www.pro-football-reference.com/teams/was/2020_lines.htm\n",
            "https://www.pro-football-reference.com/teams/crd/2021_lines.htm\n",
            "https://www.pro-football-reference.com/teams/atl/2021_lines.htm\n",
            "https://www.pro-football-reference.com/teams/rav/2021_lines.htm\n",
            "https://www.pro-football-reference.com/teams/buf/2021_lines.htm\n",
            "https://www.pro-football-reference.com/teams/car/2021_lines.htm\n",
            "https://www.pro-football-reference.com/teams/chi/2021_lines.htm\n",
            "https://www.pro-football-reference.com/teams/cin/2021_lines.htm\n",
            "https://www.pro-football-reference.com/teams/cle/2021_lines.htm\n",
            "https://www.pro-football-reference.com/teams/dal/2021_lines.htm\n",
            "https://www.pro-football-reference.com/teams/den/2021_lines.htm\n",
            "https://www.pro-football-reference.com/teams/det/2021_lines.htm\n",
            "https://www.pro-football-reference.com/teams/gnb/2021_lines.htm\n",
            "https://www.pro-football-reference.com/teams/htx/2021_lines.htm\n",
            "https://www.pro-football-reference.com/teams/clt/2021_lines.htm\n",
            "https://www.pro-football-reference.com/teams/jax/2021_lines.htm\n",
            "https://www.pro-football-reference.com/teams/kan/2021_lines.htm\n",
            "https://www.pro-football-reference.com/teams/sdg/2021_lines.htm\n",
            "https://www.pro-football-reference.com/teams/ram/2021_lines.htm\n",
            "https://www.pro-football-reference.com/teams/rai/2021_lines.htm\n",
            "https://www.pro-football-reference.com/teams/mia/2021_lines.htm\n",
            "https://www.pro-football-reference.com/teams/min/2021_lines.htm\n",
            "https://www.pro-football-reference.com/teams/nwe/2021_lines.htm\n",
            "https://www.pro-football-reference.com/teams/nor/2021_lines.htm\n",
            "https://www.pro-football-reference.com/teams/nyg/2021_lines.htm\n",
            "https://www.pro-football-reference.com/teams/nyj/2021_lines.htm\n",
            "https://www.pro-football-reference.com/teams/phi/2021_lines.htm\n",
            "https://www.pro-football-reference.com/teams/pit/2021_lines.htm\n",
            "https://www.pro-football-reference.com/teams/sea/2021_lines.htm\n",
            "https://www.pro-football-reference.com/teams/sfo/2021_lines.htm\n",
            "https://www.pro-football-reference.com/teams/tam/2021_lines.htm\n",
            "https://www.pro-football-reference.com/teams/oti/2021_lines.htm\n",
            "https://www.pro-football-reference.com/teams/was/2021_lines.htm\n",
            "https://www.pro-football-reference.com/teams/crd/2022_lines.htm\n",
            "https://www.pro-football-reference.com/teams/atl/2022_lines.htm\n",
            "https://www.pro-football-reference.com/teams/rav/2022_lines.htm\n",
            "https://www.pro-football-reference.com/teams/buf/2022_lines.htm\n",
            "https://www.pro-football-reference.com/teams/car/2022_lines.htm\n",
            "https://www.pro-football-reference.com/teams/chi/2022_lines.htm\n",
            "https://www.pro-football-reference.com/teams/cin/2022_lines.htm\n",
            "https://www.pro-football-reference.com/teams/cle/2022_lines.htm\n",
            "https://www.pro-football-reference.com/teams/dal/2022_lines.htm\n",
            "https://www.pro-football-reference.com/teams/den/2022_lines.htm\n",
            "https://www.pro-football-reference.com/teams/det/2022_lines.htm\n",
            "https://www.pro-football-reference.com/teams/gnb/2022_lines.htm\n",
            "https://www.pro-football-reference.com/teams/htx/2022_lines.htm\n",
            "https://www.pro-football-reference.com/teams/clt/2022_lines.htm\n",
            "https://www.pro-football-reference.com/teams/jax/2022_lines.htm\n",
            "https://www.pro-football-reference.com/teams/kan/2022_lines.htm\n",
            "https://www.pro-football-reference.com/teams/sdg/2022_lines.htm\n",
            "https://www.pro-football-reference.com/teams/ram/2022_lines.htm\n",
            "https://www.pro-football-reference.com/teams/rai/2022_lines.htm\n",
            "https://www.pro-football-reference.com/teams/mia/2022_lines.htm\n",
            "https://www.pro-football-reference.com/teams/min/2022_lines.htm\n",
            "https://www.pro-football-reference.com/teams/nwe/2022_lines.htm\n",
            "https://www.pro-football-reference.com/teams/nor/2022_lines.htm\n",
            "https://www.pro-football-reference.com/teams/nyg/2022_lines.htm\n",
            "https://www.pro-football-reference.com/teams/nyj/2022_lines.htm\n",
            "https://www.pro-football-reference.com/teams/phi/2022_lines.htm\n",
            "https://www.pro-football-reference.com/teams/pit/2022_lines.htm\n",
            "https://www.pro-football-reference.com/teams/sea/2022_lines.htm\n",
            "https://www.pro-football-reference.com/teams/sfo/2022_lines.htm\n",
            "https://www.pro-football-reference.com/teams/tam/2022_lines.htm\n",
            "https://www.pro-football-reference.com/teams/oti/2022_lines.htm\n",
            "https://www.pro-football-reference.com/teams/was/2022_lines.htm\n",
            "     Season  G# Team   Opp  Spread  Over/Under    Result vs. Line OU Result\n",
            "0      2014   1  CRD   SDG    -3.0        45.0  W, 18-17     Lost     Under\n",
            "1      2014   2  CRD  @NYG    -2.0        42.5  W, 25-14      Won     Under\n",
            "2      2014   3  CRD   SFO     3.0        42.0  W, 23-14      Won     Under\n",
            "3      2014   4  CRD  @DEN     7.5        48.0  L, 20-41     Lost      Over\n",
            "4      2014   5  CRD   WAS    -5.5        47.0  W, 30-20      Won      Over\n",
            "...     ...  ..  ...   ...     ...         ...       ...      ...       ...\n",
            "4875   2022  13  WAS  @NYG    -2.0        40.5  T, 20-20     Lost     Under\n",
            "4876   2022  14  WAS   NYG    -4.5        40.5  L, 12-20     Lost     Under\n",
            "4877   2022  15  WAS  @SFO     6.5        37.5  L, 20-37     Lost      Over\n",
            "4878   2022  16  WAS   CLE    -2.0        40.5  L, 10-24     Lost     Under\n",
            "4879   2022  17  WAS   DAL     7.0        40.0   W, 26-6      Won     Under\n",
            "\n",
            "[4880 rows x 9 columns]\n"
          ]
        }
      ],
      "source": [
        "#scrape vegas lines\n",
        "\n",
        "#import libraries\n",
        "import random\n",
        "import time\n",
        "\n",
        "#create empty dataframe to append\n",
        "veg_df = pd.DataFrame()\n",
        "\n",
        "#iterate through seasons\n",
        "for season in seasons:\n",
        "  #iterate through teams\n",
        "  for team in teams:\n",
        "    #set url\n",
        "    url = 'https://www.pro-football-reference.com/teams/' + team + '/' + season + '_lines.htm'\n",
        "    print(url)\n",
        "\n",
        "    #get vegas lines\n",
        "    lines_df = pd.read_html(url, header=0, attrs={'id':'vegas_lines'})[0]\n",
        "\n",
        "    #insert season column\n",
        "    lines_df.insert(loc=0, column='Season', value=season)\n",
        "\n",
        "    #insert team column\n",
        "    lines_df.insert(loc=2, column='Team', value=team.upper())\n",
        "\n",
        "    #concatenate team lines to aggregate dataframe\n",
        "    veg_df = pd.concat([veg_df, lines_df], ignore_index=True)\n",
        "\n",
        "    #pause program to abide by website rules\n",
        "    time.sleep(random.randint(4, 5))\n",
        "\n",
        "#display aggregate dataframe\n",
        "print(veg_df)"
      ]
    },
    {
      "cell_type": "code",
      "execution_count": null,
      "metadata": {
        "id": "cuXluzhIuuVY"
      },
      "outputs": [],
      "source": [
        "#save data to csv file\n",
        "veg_df.to_csv('nfl_vegas_lines_2014-2023.csv', index=False)"
      ]
    },
    {
      "cell_type": "code",
      "execution_count": null,
      "metadata": {
        "colab": {
          "base_uri": "https://localhost:8080/"
        },
        "id": "LCXiP3f9vBM9",
        "outputId": "f49f44f0-26af-449e-8613-a571754aa3be"
      },
      "outputs": [
        {
          "name": "stdout",
          "output_type": "stream",
          "text": [
            "(4880, 9)\n"
          ]
        }
      ],
      "source": [
        "#reload saved dataframe\n",
        "veg_df = pd.read_csv('nfl_vegas_lines_2014-2023.csv')\n",
        "\n",
        "#display veg_df shape\n",
        "print(veg_df.shape)"
      ]
    },
    {
      "cell_type": "code",
      "execution_count": null,
      "metadata": {
        "colab": {
          "base_uri": "https://localhost:8080/"
        },
        "id": "3iUi24YvwDRi",
        "outputId": "3c2748e7-9001-437a-f11f-8642519bbd32"
      },
      "outputs": [
        {
          "name": "stdout",
          "output_type": "stream",
          "text": [
            "<class 'pandas.core.frame.DataFrame'>\n",
            "RangeIndex: 4880 entries, 0 to 4879\n",
            "Data columns (total 6 columns):\n",
            " #   Column      Non-Null Count  Dtype  \n",
            "---  ------      --------------  -----  \n",
            " 0   Season      4880 non-null   int64  \n",
            " 1   G#          4880 non-null   int64  \n",
            " 2   Team        4880 non-null   object \n",
            " 3   Opp         4880 non-null   object \n",
            " 4   Spread      4880 non-null   float64\n",
            " 5   Over/Under  4880 non-null   float64\n",
            "dtypes: float64(2), int64(2), object(2)\n",
            "memory usage: 228.9+ KB\n",
            "None\n"
          ]
        }
      ],
      "source": [
        "#drop some columns\n",
        "veg_df = veg_df.drop(veg_df.columns[6:], axis=1)\n",
        "print(veg_df.info(verbose=True))"
      ]
    },
    {
      "cell_type": "code",
      "execution_count": null,
      "metadata": {
        "colab": {
          "base_uri": "https://localhost:8080/"
        },
        "id": "KvAR900lwSLK",
        "outputId": "2f0c04b8-90c0-4788-9de3-f8774cc7f3fa"
      },
      "outputs": [
        {
          "name": "stdout",
          "output_type": "stream",
          "text": [
            "<class 'pandas.core.frame.DataFrame'>\n",
            "RangeIndex: 4880 entries, 0 to 4879\n",
            "Data columns (total 6 columns):\n",
            " #   Column  Non-Null Count  Dtype  \n",
            "---  ------  --------------  -----  \n",
            " 0   Season  4880 non-null   int64  \n",
            " 1   G       4880 non-null   int64  \n",
            " 2   Team    4880 non-null   object \n",
            " 3   Opp     4880 non-null   object \n",
            " 4   Spread  4880 non-null   float64\n",
            " 5   Total   4880 non-null   float64\n",
            "dtypes: float64(2), int64(2), object(2)\n",
            "memory usage: 228.9+ KB\n",
            "None\n"
          ]
        }
      ],
      "source": [
        "#rename some columns\n",
        "column_names = {'G#':'G', 'Over/Under':'Total'}\n",
        "veg_df = veg_df.rename(columns=column_names)\n",
        "print(veg_df.info(verbose=True))"
      ]
    },
    {
      "cell_type": "code",
      "execution_count": null,
      "metadata": {
        "colab": {
          "base_uri": "https://localhost:8080/"
        },
        "id": "QDeRrC-EwltI",
        "outputId": "753268d6-f2b7-481f-b747-597d07904196"
      },
      "outputs": [
        {
          "name": "stdout",
          "output_type": "stream",
          "text": [
            "(4670, 6)\n"
          ]
        }
      ],
      "source": [
        "#drop rows where G >= 17 from 2014 - 2020\n",
        "#drop rows where G >= 18 from 2021 - 2023\n",
        "veg_df = veg_df.query('(Season <= 2020 and G < 17) or (Season >= 2021 and G < 18)')\n",
        "print(veg_df.shape)"
      ]
    },
    {
      "cell_type": "code",
      "execution_count": null,
      "metadata": {
        "id": "BsYSczRsxJmp"
      },
      "outputs": [],
      "source": [
        "#create home column based on opp column in original dataframe\n",
        "veg_df['Home'] = veg_df['Opp'].apply(lambda x: 0 if x[0] == '@' else 1)"
      ]
    },
    {
      "cell_type": "code",
      "execution_count": null,
      "metadata": {
        "id": "fN4dRvhuxcQt"
      },
      "outputs": [],
      "source": [
        "#remove @ from opp column\n",
        "veg_df['Opp'] = veg_df['Opp'].apply(lambda x: x[1:] if x[0] == '@' else x)\n",
        "\n",
        "#team names are different in veg_df\n",
        "abbr_dict = {'OAK':'RAI', 'LVR':'RAI', 'STL':'RAM', 'LAR':'RAM', 'LAC':'SDG',\n",
        "             'IND':'CLT', 'HOU':'HTX', 'BAL':'RAV', 'ARI':'CRD', 'TEN':'OTI'}\n",
        "veg_df = veg_df.replace({'Opp': abbr_dict})"
      ]
    },
    {
      "cell_type": "code",
      "execution_count": null,
      "metadata": {
        "colab": {
          "base_uri": "https://localhost:8080/"
        },
        "id": "78190JMxySrN",
        "outputId": "9688e355-a54b-47d7-900a-946b7fa991c6"
      },
      "outputs": [
        {
          "name": "stdout",
          "output_type": "stream",
          "text": [
            "(4670, 11)\n",
            "(4670, 7)\n"
          ]
        }
      ],
      "source": [
        "#print shapes of both dataframes to ensure they contain same # of rows\n",
        "print(nfl_pts_df.shape)\n",
        "print(veg_df.shape)"
      ]
    },
    {
      "cell_type": "code",
      "execution_count": null,
      "metadata": {
        "id": "yuLtGdE0yb8g"
      },
      "outputs": [],
      "source": [
        "#merge datasets\n",
        "#columns create key where rows in each dataframe match\n",
        "merged_df = pd.merge(nfl_pts_df, veg_df, on=['Season','Team','Opp','Home'])"
      ]
    },
    {
      "cell_type": "code",
      "execution_count": null,
      "metadata": {
        "colab": {
          "base_uri": "https://localhost:8080/"
        },
        "id": "VspfOTQFyuDD",
        "outputId": "ecf38c71-b906-4226-a501-a3707d3ad1a0"
      },
      "outputs": [
        {
          "name": "stdout",
          "output_type": "stream",
          "text": [
            "    Season  Week Team  Day          Date  Win  OT  Home  Opp  Off_Pts  Def_Pts\n",
            "0     2014     1  CRD  Mon   September 8    1   0     0  SDG       18       17\n",
            "1     2014     2  CRD  Sun  September 14    1   0     1  NYG       25       14\n",
            "2     2014     3  CRD  Sun  September 21    1   0     0  SFO       23       14\n",
            "3     2014     5  CRD  Sun     October 5    0   0     1  DEN       20       41\n",
            "4     2014     6  CRD  Sun    October 12    1   0     0  WAS       30       20\n",
            "5     2014     7  CRD  Sun    October 19    1   0     1  RAI       24       13\n",
            "6     2014     8  CRD  Sun    October 26    1   0     0  PHI       24       20\n",
            "7     2014     9  CRD  Sun    November 2    1   0     1  DAL       28       17\n",
            "8     2014    10  CRD  Sun    November 9    1   0     0  RAM       31       14\n",
            "9     2014    11  CRD  Sun   November 16    1   0     0  DET       14        6\n",
            "10    2014    12  CRD  Sun   November 23    0   0     1  SEA        3       19\n",
            "11    2014    13  CRD  Sun   November 30    0   0     1  ATL       18       29\n",
            "12    2014    14  CRD  Sun    December 7    1   0     0  KAN       17       14\n",
            "13    2014    15  CRD  Thu   December 11    1   0     1  RAM       12        6\n",
            "14    2014    16  CRD  Sun   December 21    0   0     0  SEA        6       35\n",
            "15    2014    17  CRD  Sun   December 28    0   0     1  SFO       17       20\n",
            "    Season   G Team  Opp  Spread  Total  Home\n",
            "0     2014   1  CRD  SDG    -3.0   45.0     1\n",
            "1     2014   2  CRD  NYG    -2.0   42.5     0\n",
            "2     2014   3  CRD  SFO     3.0   42.0     1\n",
            "3     2014   4  CRD  DEN     7.5   48.0     0\n",
            "4     2014   5  CRD  WAS    -5.5   47.0     1\n",
            "5     2014   6  CRD  RAI    -3.5   46.5     0\n",
            "6     2014   7  CRD  PHI     1.0   48.5     1\n",
            "7     2014   8  CRD  DAL     1.5   45.0     0\n",
            "8     2014   9  CRD  RAM    -7.0   43.0     1\n",
            "9     2014  10  CRD  DET    -1.0   41.0     1\n",
            "10    2014  11  CRD  SEA     7.0   41.5     0\n",
            "11    2014  12  CRD  ATL    -1.5   45.0     0\n",
            "12    2014  13  CRD  KAN     2.5   41.0     1\n",
            "13    2014  14  CRD  RAM     4.5   40.5     0\n",
            "14    2014  15  CRD  SEA     9.0   36.0     1\n",
            "15    2014  16  CRD  SFO     6.5   37.5     0\n",
            "   Season  Week Team  Day          Date  Win  OT  Home  Opp  Off_Pts  Def_Pts  \\\n",
            "0    2014     3  CRD  Sun  September 21    1   0     0  SFO       23       14   \n",
            "1    2014    10  CRD  Sun    November 9    1   0     0  RAM       31       14   \n",
            "2    2014    12  CRD  Sun   November 23    0   0     1  SEA        3       19   \n",
            "3    2014    15  CRD  Thu   December 11    1   0     1  RAM       12        6   \n",
            "4    2014    16  CRD  Sun   December 21    0   0     0  SEA        6       35   \n",
            "5    2014    17  CRD  Sun   December 28    0   0     1  SFO       17       20   \n",
            "\n",
            "    G  Spread  Total  \n",
            "0  16     6.5   37.5  \n",
            "1  14     4.5   40.5  \n",
            "2  15     9.0   36.0  \n",
            "3   9    -7.0   43.0  \n",
            "4  11     7.0   41.5  \n",
            "5   3     3.0   42.0  \n"
          ]
        }
      ],
      "source": [
        "#print example to verify merge\n",
        "print(nfl_pts_df.query('Season == 2014 and Team == \"CRD\"'))\n",
        "print(veg_df.query('Season == 2014 and Team == \"CRD\"'))\n",
        "print(merged_df.query('Season == 2014 and Team == \"CRD\"'))"
      ]
    },
    {
      "cell_type": "code",
      "execution_count": null,
      "metadata": {
        "id": "JFVuXXg4zCuP"
      },
      "outputs": [],
      "source": [
        "#saved merged dataset\n",
        "merged_df.to_csv('nfl_pts_and_vegas_2014-2023.csv', index=False)"
      ]
    },
    {
      "cell_type": "markdown",
      "metadata": {
        "id": "jtj_MsYilrVX"
      },
      "source": [
        "**Trend Bets**"
      ]
    },
    {
      "cell_type": "code",
      "execution_count": null,
      "metadata": {
        "id": "m_5u7d4rlxrl"
      },
      "outputs": [],
      "source": [
        "#import libraries\n",
        "import numpy as np\n",
        "import pandas as pd\n",
        "import matplotlib.pyplot as plt"
      ]
    },
    {
      "cell_type": "code",
      "execution_count": null,
      "metadata": {
        "colab": {
          "base_uri": "https://localhost:8080/"
        },
        "id": "tVfkO2MlmJ5l",
        "outputId": "17f5550d-d495-4bea-ad09-66d5e01e64aa"
      },
      "outputs": [
        {
          "name": "stdout",
          "output_type": "stream",
          "text": [
            "<class 'pandas.core.frame.DataFrame'>\n",
            "RangeIndex: 1728 entries, 0 to 1727\n",
            "Data columns (total 14 columns):\n",
            " #   Column   Non-Null Count  Dtype  \n",
            "---  ------   --------------  -----  \n",
            " 0   Season   1728 non-null   int64  \n",
            " 1   Week     1728 non-null   int64  \n",
            " 2   Team     1728 non-null   object \n",
            " 3   Day      1728 non-null   object \n",
            " 4   Date     1728 non-null   object \n",
            " 5   Win      1728 non-null   int64  \n",
            " 6   OT       1728 non-null   int64  \n",
            " 7   Home     1728 non-null   int64  \n",
            " 8   Opp      1728 non-null   object \n",
            " 9   Off_Pts  1728 non-null   int64  \n",
            " 10  Def_Pts  1728 non-null   int64  \n",
            " 11  G        1728 non-null   int64  \n",
            " 12  Spread   1728 non-null   float64\n",
            " 13  Total    1728 non-null   float64\n",
            "dtypes: float64(2), int64(8), object(4)\n",
            "memory usage: 189.1+ KB\n"
          ]
        }
      ],
      "source": [
        "#create dataframe from file\n",
        "nfl_pts_df = pd.read_csv('nfl_pts_and_vegas_2014-2023.csv')\n",
        "nfl_pts_df.info(verbose=True)"
      ]
    },
    {
      "cell_type": "code",
      "execution_count": null,
      "metadata": {
        "id": "dTKlEIGcw64H"
      },
      "outputs": [],
      "source": [
        "#create list of season trend results\n",
        "season_trends = list()"
      ]
    },
    {
      "cell_type": "code",
      "execution_count": null,
      "metadata": {
        "id": "MAT8_X-VxBTQ"
      },
      "outputs": [],
      "source": [
        "def display_trend(df, trend, result, seasons, weeks, threshold):\n",
        "  #trend dataframe\n",
        "  trend_df = df.query(trend)\n",
        "  trend_count = len(trend_df)\n",
        "\n",
        "  #result dataframe\n",
        "  result_df = trend_df.query(result)\n",
        "  result_count = len(result_df)\n",
        "\n",
        "  #display trends over all seasons\n",
        "  if trend_count > 0:\n",
        "    print(f'Overall trend percent = {result_count / trend_count:.2%} ({result_count} of {trend_count})')\n",
        "  else:\n",
        "    print('No games met the specified trend condition.')\n",
        "\n",
        "  season_hits = 0\n",
        "  season_percents = list()\n",
        "  for season in seasons:\n",
        "    #season trend dataframe\n",
        "    season_trend_df = trend_df.query('Season == @season')\n",
        "    season_trend_count = len(season_trend_df)\n",
        "\n",
        "\n",
        "    #season result dataframe\n",
        "    season_result_df = result_df.query('Season == @season')\n",
        "    season_result_count = len(season_result_df)\n",
        "\n",
        "    #display season results\n",
        "    if season_trend_count > 0:\n",
        "      season_avg = season_result_count / season_trend_count\n",
        "      print(f'\\nSeason {season} trend percent = {season_avg:.2%} ({season_result_count} of {season_trend_count})')\n",
        "    else:\n",
        "      season_avg = 0  # Set a default value when no games meet the trend condition\n",
        "      print(f'\\nSeason {season} trend percent = No games met the trend condition')\n",
        "    season_percents.append(round(season_avg, 4))\n",
        "\n",
        "\n",
        "    #determine if current season is above threshold\n",
        "    if season_avg > threshold:\n",
        "      season_hits += 1\n",
        "\n",
        "    for week in weeks:\n",
        "      #week trend dataframe\n",
        "      week_trend_df = season_trend_df.query('Week == @week')\n",
        "      week_trend_count = len(week_trend_df)\n",
        "\n",
        "      #week result dataframe\n",
        "      week_result_df = season_result_df.query('Week == @week')\n",
        "      week_result_count = len(week_result_df)\n",
        "\n",
        "      #display weekly results\n",
        "      if len(week_trend_df) > 0:\n",
        "        print(f'  Week {week:>2} trend percent = {week_result_count / week_trend_count:.2%} ({week_result_count} of {week_trend_count})')\n",
        "      else:\n",
        "        print(f'  Week {week:>2}, No Games')\n",
        "\n",
        "  #display percentage of season over threshold\n",
        "  print(f'\\nSeasonal trend hit percentage = {season_hits / len(seasons):.2%} ({season_hits} of {len(seasons)})')\n",
        "\n",
        "  #update seasons_trends list\n",
        "  season_trends.append(season_percents)"
      ]
    },
    {
      "cell_type": "code",
      "execution_count": null,
      "metadata": {
        "id": "sKQQLZ5_84Ip"
      },
      "outputs": [],
      "source": [
        "#set constant arguments\n",
        "df = nfl_pts_df\n",
        "seasons = np.arange(2015, 2023)\n",
        "weeks = np.arange(1, 2)\n",
        "threshold = 0.5239"
      ]
    },
    {
      "cell_type": "markdown",
      "metadata": {
        "id": "tqIrL92oBwJh"
      },
      "source": [
        "**Trend #1**"
      ]
    },
    {
      "cell_type": "code",
      "execution_count": null,
      "metadata": {
        "colab": {
          "base_uri": "https://localhost:8080/"
        },
        "id": "TBpQg7ljB4V5",
        "outputId": "98545d96-8c46-4fa1-8664-ef98c827320c"
      },
      "outputs": [
        {
          "name": "stdout",
          "output_type": "stream",
          "text": [
            "TREND: All Week 1 Underdogs that covered the spread (2015 - 2022)\n",
            "\n",
            "Overall trend percent = 62.22% (28 of 45)\n",
            "\n",
            "Season 2015 trend percent = 100.00% (3 of 3)\n",
            "  Week  1 trend percent = 100.00% (3 of 3)\n",
            "\n",
            "Season 2016 trend percent = 75.00% (3 of 4)\n",
            "  Week  1 trend percent = 75.00% (3 of 4)\n",
            "\n",
            "Season 2017 trend percent = 14.29% (1 of 7)\n",
            "  Week  1 trend percent = 14.29% (1 of 7)\n",
            "\n",
            "Season 2018 trend percent = 75.00% (3 of 4)\n",
            "  Week  1 trend percent = 75.00% (3 of 4)\n",
            "\n",
            "Season 2019 trend percent = 60.00% (3 of 5)\n",
            "  Week  1 trend percent = 60.00% (3 of 5)\n",
            "\n",
            "Season 2020 trend percent = 33.33% (3 of 9)\n",
            "  Week  1 trend percent = 33.33% (3 of 9)\n",
            "\n",
            "Season 2021 trend percent = 100.00% (2 of 2)\n",
            "  Week  1 trend percent = 100.00% (2 of 2)\n",
            "\n",
            "Season 2022 trend percent = 100.00% (6 of 6)\n",
            "  Week  1 trend percent = 100.00% (6 of 6)\n",
            "\n",
            "Seasonal trend hit percentage = 75.00% (6 of 8)\n"
          ]
        }
      ],
      "source": [
        "#set arguments\n",
        "trend = 'Week == 1 and Spread > 0'\n",
        "result = 'Off_Pts + Spread > Def_Pts'\n",
        "\n",
        "#display heading\n",
        "print(f'TREND: All Week 1 Underdogs that covered the spread ({min(seasons)} - {max(seasons)})\\n')\n",
        "\n",
        "#call function\n",
        "display_trend(df, trend, result, seasons, weeks, threshold)"
      ]
    },
    {
      "cell_type": "markdown",
      "metadata": {
        "id": "VRujFHQHo59J"
      },
      "source": [
        "**Trend #2 (UNFINISHED)**"
      ]
    },
    {
      "cell_type": "code",
      "execution_count": null,
      "metadata": {
        "colab": {
          "base_uri": "https://localhost:8080/"
        },
        "id": "LiLgQLR3oguQ",
        "outputId": "0a22df15-3c13-4ee2-a84e-15750343bdfc"
      },
      "outputs": [
        {
          "name": "stdout",
          "output_type": "stream",
          "text": [
            "TREND: Week 1 Underdogs getting 6.5+ points that covered the spread (2015 - 2022)\n",
            "Overall trend percent = 58.33% (7 of 12)\n",
            "\n",
            "Season 2015 trend percent = 100.00% (2 of 2)\n",
            "  Week  1 trend percent = 100.00% (2 of 2)\n",
            "\n",
            "Season 2016 trend percent = No games met the trend condition\n",
            "  Week  1, No Games\n",
            "\n",
            "Season 2017 trend percent = 0.00% (0 of 2)\n",
            "  Week  1 trend percent = 0.00% (0 of 2)\n",
            "\n",
            "Season 2018 trend percent = 100.00% (2 of 2)\n",
            "  Week  1 trend percent = 100.00% (2 of 2)\n",
            "\n",
            "Season 2019 trend percent = 50.00% (1 of 2)\n",
            "  Week  1 trend percent = 50.00% (1 of 2)\n",
            "\n",
            "Season 2020 trend percent = 33.33% (1 of 3)\n",
            "  Week  1 trend percent = 33.33% (1 of 3)\n",
            "\n",
            "Season 2021 trend percent = No games met the trend condition\n",
            "  Week  1, No Games\n",
            "\n",
            "Season 2022 trend percent = No games met the trend condition\n",
            "  Week  1, No Games\n",
            "\n",
            "Seasonal trend hit percentage = 37.50% (3 of 8)\n"
          ]
        }
      ],
      "source": [
        "#set arguments\n",
        "trend = 'Week == 1 and Spread >= 6.5'\n",
        "result = 'Off_Pts + Spread > Def_Pts'\n",
        "\n",
        "#display heading\n",
        "print(f'TREND: Week 1 Underdogs getting 6.5+ points that covered the spread ({min(seasons)} - {max(seasons)})')\n",
        "\n",
        "#call function\n",
        "display_trend(df, trend, result, seasons, weeks, threshold)"
      ]
    },
    {
      "cell_type": "markdown",
      "metadata": {
        "id": "_kZ11J5v25Q_"
      },
      "source": [
        "**Trend #3**"
      ]
    },
    {
      "cell_type": "code",
      "execution_count": null,
      "metadata": {
        "colab": {
          "base_uri": "https://localhost:8080/",
          "height": 546
        },
        "id": "yfiJHYVK28e4",
        "outputId": "68c5ba5e-71d7-4b51-8dc1-65fa6189dc15"
      },
      "outputs": [
        {
          "name": "stdout",
          "output_type": "stream",
          "text": [
            "TREND: Week 1 Divisional Underdogs that covered the spread (2015 - 2022)\n"
          ]
        },
        {
          "ename": "UndefinedVariableError",
          "evalue": "ignored",
          "output_type": "error",
          "traceback": [
            "\u001b[0;31m---------------------------------------------------------------------------\u001b[0m",
            "\u001b[0;31mKeyError\u001b[0m                                  Traceback (most recent call last)",
            "\u001b[0;32m/usr/local/lib/python3.10/dist-packages/pandas/core/computation/scope.py\u001b[0m in \u001b[0;36mresolve\u001b[0;34m(self, key, is_local)\u001b[0m\n\u001b[1;32m    197\u001b[0m             \u001b[0;32mif\u001b[0m \u001b[0mself\u001b[0m\u001b[0;34m.\u001b[0m\u001b[0mhas_resolvers\u001b[0m\u001b[0;34m:\u001b[0m\u001b[0;34m\u001b[0m\u001b[0;34m\u001b[0m\u001b[0m\n\u001b[0;32m--> 198\u001b[0;31m                 \u001b[0;32mreturn\u001b[0m \u001b[0mself\u001b[0m\u001b[0;34m.\u001b[0m\u001b[0mresolvers\u001b[0m\u001b[0;34m[\u001b[0m\u001b[0mkey\u001b[0m\u001b[0;34m]\u001b[0m\u001b[0;34m\u001b[0m\u001b[0;34m\u001b[0m\u001b[0m\n\u001b[0m\u001b[1;32m    199\u001b[0m \u001b[0;34m\u001b[0m\u001b[0m\n",
            "\u001b[0;32m/usr/lib/python3.10/collections/__init__.py\u001b[0m in \u001b[0;36m__getitem__\u001b[0;34m(self, key)\u001b[0m\n\u001b[1;32m    985\u001b[0m                 \u001b[0;32mpass\u001b[0m\u001b[0;34m\u001b[0m\u001b[0;34m\u001b[0m\u001b[0m\n\u001b[0;32m--> 986\u001b[0;31m         \u001b[0;32mreturn\u001b[0m \u001b[0mself\u001b[0m\u001b[0;34m.\u001b[0m\u001b[0m__missing__\u001b[0m\u001b[0;34m(\u001b[0m\u001b[0mkey\u001b[0m\u001b[0;34m)\u001b[0m            \u001b[0;31m# support subclasses that define __missing__\u001b[0m\u001b[0;34m\u001b[0m\u001b[0;34m\u001b[0m\u001b[0m\n\u001b[0m\u001b[1;32m    987\u001b[0m \u001b[0;34m\u001b[0m\u001b[0m\n",
            "\u001b[0;32m/usr/lib/python3.10/collections/__init__.py\u001b[0m in \u001b[0;36m__missing__\u001b[0;34m(self, key)\u001b[0m\n\u001b[1;32m    977\u001b[0m     \u001b[0;32mdef\u001b[0m \u001b[0m__missing__\u001b[0m\u001b[0;34m(\u001b[0m\u001b[0mself\u001b[0m\u001b[0;34m,\u001b[0m \u001b[0mkey\u001b[0m\u001b[0;34m)\u001b[0m\u001b[0;34m:\u001b[0m\u001b[0;34m\u001b[0m\u001b[0;34m\u001b[0m\u001b[0m\n\u001b[0;32m--> 978\u001b[0;31m         \u001b[0;32mraise\u001b[0m \u001b[0mKeyError\u001b[0m\u001b[0;34m(\u001b[0m\u001b[0mkey\u001b[0m\u001b[0;34m)\u001b[0m\u001b[0;34m\u001b[0m\u001b[0;34m\u001b[0m\u001b[0m\n\u001b[0m\u001b[1;32m    979\u001b[0m \u001b[0;34m\u001b[0m\u001b[0m\n",
            "\u001b[0;31mKeyError\u001b[0m: 'Division'",
            "\nDuring handling of the above exception, another exception occurred:\n",
            "\u001b[0;31mKeyError\u001b[0m                                  Traceback (most recent call last)",
            "\u001b[0;32m/usr/local/lib/python3.10/dist-packages/pandas/core/computation/scope.py\u001b[0m in \u001b[0;36mresolve\u001b[0;34m(self, key, is_local)\u001b[0m\n\u001b[1;32m    208\u001b[0m                 \u001b[0;31m# e.g., df[df > 0]\u001b[0m\u001b[0;34m\u001b[0m\u001b[0;34m\u001b[0m\u001b[0m\n\u001b[0;32m--> 209\u001b[0;31m                 \u001b[0;32mreturn\u001b[0m \u001b[0mself\u001b[0m\u001b[0;34m.\u001b[0m\u001b[0mtemps\u001b[0m\u001b[0;34m[\u001b[0m\u001b[0mkey\u001b[0m\u001b[0;34m]\u001b[0m\u001b[0;34m\u001b[0m\u001b[0;34m\u001b[0m\u001b[0m\n\u001b[0m\u001b[1;32m    210\u001b[0m             \u001b[0;32mexcept\u001b[0m \u001b[0mKeyError\u001b[0m \u001b[0;32mas\u001b[0m \u001b[0merr\u001b[0m\u001b[0;34m:\u001b[0m\u001b[0;34m\u001b[0m\u001b[0;34m\u001b[0m\u001b[0m\n",
            "\u001b[0;31mKeyError\u001b[0m: 'Division'",
            "\nThe above exception was the direct cause of the following exception:\n",
            "\u001b[0;31mUndefinedVariableError\u001b[0m                    Traceback (most recent call last)",
            "\u001b[0;32m<ipython-input-87-546c26a026fd>\u001b[0m in \u001b[0;36m<cell line: 9>\u001b[0;34m()\u001b[0m\n\u001b[1;32m      7\u001b[0m \u001b[0;34m\u001b[0m\u001b[0m\n\u001b[1;32m      8\u001b[0m \u001b[0;31m#call function\u001b[0m\u001b[0;34m\u001b[0m\u001b[0;34m\u001b[0m\u001b[0m\n\u001b[0;32m----> 9\u001b[0;31m \u001b[0mdisplay_trend\u001b[0m\u001b[0;34m(\u001b[0m\u001b[0mdf\u001b[0m\u001b[0;34m,\u001b[0m \u001b[0mtrend\u001b[0m\u001b[0;34m,\u001b[0m \u001b[0mresult\u001b[0m\u001b[0;34m,\u001b[0m \u001b[0mseasons\u001b[0m\u001b[0;34m,\u001b[0m \u001b[0mweeks\u001b[0m\u001b[0;34m,\u001b[0m \u001b[0mthreshold\u001b[0m\u001b[0;34m)\u001b[0m\u001b[0;34m\u001b[0m\u001b[0;34m\u001b[0m\u001b[0m\n\u001b[0m",
            "\u001b[0;32m<ipython-input-80-b264988c7aa9>\u001b[0m in \u001b[0;36mdisplay_trend\u001b[0;34m(df, trend, result, seasons, weeks, threshold)\u001b[0m\n\u001b[1;32m      1\u001b[0m \u001b[0;32mdef\u001b[0m \u001b[0mdisplay_trend\u001b[0m\u001b[0;34m(\u001b[0m\u001b[0mdf\u001b[0m\u001b[0;34m,\u001b[0m \u001b[0mtrend\u001b[0m\u001b[0;34m,\u001b[0m \u001b[0mresult\u001b[0m\u001b[0;34m,\u001b[0m \u001b[0mseasons\u001b[0m\u001b[0;34m,\u001b[0m \u001b[0mweeks\u001b[0m\u001b[0;34m,\u001b[0m \u001b[0mthreshold\u001b[0m\u001b[0;34m)\u001b[0m\u001b[0;34m:\u001b[0m\u001b[0;34m\u001b[0m\u001b[0;34m\u001b[0m\u001b[0m\n\u001b[1;32m      2\u001b[0m   \u001b[0;31m#trend dataframe\u001b[0m\u001b[0;34m\u001b[0m\u001b[0;34m\u001b[0m\u001b[0m\n\u001b[0;32m----> 3\u001b[0;31m   \u001b[0mtrend_df\u001b[0m \u001b[0;34m=\u001b[0m \u001b[0mdf\u001b[0m\u001b[0;34m.\u001b[0m\u001b[0mquery\u001b[0m\u001b[0;34m(\u001b[0m\u001b[0mtrend\u001b[0m\u001b[0;34m)\u001b[0m\u001b[0;34m\u001b[0m\u001b[0;34m\u001b[0m\u001b[0m\n\u001b[0m\u001b[1;32m      4\u001b[0m   \u001b[0mtrend_count\u001b[0m \u001b[0;34m=\u001b[0m \u001b[0mlen\u001b[0m\u001b[0;34m(\u001b[0m\u001b[0mtrend_df\u001b[0m\u001b[0;34m)\u001b[0m\u001b[0;34m\u001b[0m\u001b[0;34m\u001b[0m\u001b[0m\n\u001b[1;32m      5\u001b[0m \u001b[0;34m\u001b[0m\u001b[0m\n",
            "\u001b[0;32m/usr/local/lib/python3.10/dist-packages/pandas/util/_decorators.py\u001b[0m in \u001b[0;36mwrapper\u001b[0;34m(*args, **kwargs)\u001b[0m\n\u001b[1;32m    329\u001b[0m                     \u001b[0mstacklevel\u001b[0m\u001b[0;34m=\u001b[0m\u001b[0mfind_stack_level\u001b[0m\u001b[0;34m(\u001b[0m\u001b[0;34m)\u001b[0m\u001b[0;34m,\u001b[0m\u001b[0;34m\u001b[0m\u001b[0;34m\u001b[0m\u001b[0m\n\u001b[1;32m    330\u001b[0m                 )\n\u001b[0;32m--> 331\u001b[0;31m             \u001b[0;32mreturn\u001b[0m \u001b[0mfunc\u001b[0m\u001b[0;34m(\u001b[0m\u001b[0;34m*\u001b[0m\u001b[0margs\u001b[0m\u001b[0;34m,\u001b[0m \u001b[0;34m**\u001b[0m\u001b[0mkwargs\u001b[0m\u001b[0;34m)\u001b[0m\u001b[0;34m\u001b[0m\u001b[0;34m\u001b[0m\u001b[0m\n\u001b[0m\u001b[1;32m    332\u001b[0m \u001b[0;34m\u001b[0m\u001b[0m\n\u001b[1;32m    333\u001b[0m         \u001b[0;31m# error: \"Callable[[VarArg(Any), KwArg(Any)], Any]\" has no\u001b[0m\u001b[0;34m\u001b[0m\u001b[0;34m\u001b[0m\u001b[0m\n",
            "\u001b[0;32m/usr/local/lib/python3.10/dist-packages/pandas/core/frame.py\u001b[0m in \u001b[0;36mquery\u001b[0;34m(self, expr, inplace, **kwargs)\u001b[0m\n\u001b[1;32m   4472\u001b[0m         \u001b[0mkwargs\u001b[0m\u001b[0;34m[\u001b[0m\u001b[0;34m\"level\"\u001b[0m\u001b[0;34m]\u001b[0m \u001b[0;34m=\u001b[0m \u001b[0mkwargs\u001b[0m\u001b[0;34m.\u001b[0m\u001b[0mpop\u001b[0m\u001b[0;34m(\u001b[0m\u001b[0;34m\"level\"\u001b[0m\u001b[0;34m,\u001b[0m \u001b[0;36m0\u001b[0m\u001b[0;34m)\u001b[0m \u001b[0;34m+\u001b[0m \u001b[0;36m2\u001b[0m\u001b[0;34m\u001b[0m\u001b[0;34m\u001b[0m\u001b[0m\n\u001b[1;32m   4473\u001b[0m         \u001b[0mkwargs\u001b[0m\u001b[0;34m[\u001b[0m\u001b[0;34m\"target\"\u001b[0m\u001b[0;34m]\u001b[0m \u001b[0;34m=\u001b[0m \u001b[0;32mNone\u001b[0m\u001b[0;34m\u001b[0m\u001b[0;34m\u001b[0m\u001b[0m\n\u001b[0;32m-> 4474\u001b[0;31m         \u001b[0mres\u001b[0m \u001b[0;34m=\u001b[0m \u001b[0mself\u001b[0m\u001b[0;34m.\u001b[0m\u001b[0meval\u001b[0m\u001b[0;34m(\u001b[0m\u001b[0mexpr\u001b[0m\u001b[0;34m,\u001b[0m \u001b[0;34m**\u001b[0m\u001b[0mkwargs\u001b[0m\u001b[0;34m)\u001b[0m\u001b[0;34m\u001b[0m\u001b[0;34m\u001b[0m\u001b[0m\n\u001b[0m\u001b[1;32m   4475\u001b[0m \u001b[0;34m\u001b[0m\u001b[0m\n\u001b[1;32m   4476\u001b[0m         \u001b[0;32mtry\u001b[0m\u001b[0;34m:\u001b[0m\u001b[0;34m\u001b[0m\u001b[0;34m\u001b[0m\u001b[0m\n",
            "\u001b[0;32m/usr/local/lib/python3.10/dist-packages/pandas/util/_decorators.py\u001b[0m in \u001b[0;36mwrapper\u001b[0;34m(*args, **kwargs)\u001b[0m\n\u001b[1;32m    329\u001b[0m                     \u001b[0mstacklevel\u001b[0m\u001b[0;34m=\u001b[0m\u001b[0mfind_stack_level\u001b[0m\u001b[0;34m(\u001b[0m\u001b[0;34m)\u001b[0m\u001b[0;34m,\u001b[0m\u001b[0;34m\u001b[0m\u001b[0;34m\u001b[0m\u001b[0m\n\u001b[1;32m    330\u001b[0m                 )\n\u001b[0;32m--> 331\u001b[0;31m             \u001b[0;32mreturn\u001b[0m \u001b[0mfunc\u001b[0m\u001b[0;34m(\u001b[0m\u001b[0;34m*\u001b[0m\u001b[0margs\u001b[0m\u001b[0;34m,\u001b[0m \u001b[0;34m**\u001b[0m\u001b[0mkwargs\u001b[0m\u001b[0;34m)\u001b[0m\u001b[0;34m\u001b[0m\u001b[0;34m\u001b[0m\u001b[0m\n\u001b[0m\u001b[1;32m    332\u001b[0m \u001b[0;34m\u001b[0m\u001b[0m\n\u001b[1;32m    333\u001b[0m         \u001b[0;31m# error: \"Callable[[VarArg(Any), KwArg(Any)], Any]\" has no\u001b[0m\u001b[0;34m\u001b[0m\u001b[0;34m\u001b[0m\u001b[0m\n",
            "\u001b[0;32m/usr/local/lib/python3.10/dist-packages/pandas/core/frame.py\u001b[0m in \u001b[0;36meval\u001b[0;34m(self, expr, inplace, **kwargs)\u001b[0m\n\u001b[1;32m   4610\u001b[0m         \u001b[0mkwargs\u001b[0m\u001b[0;34m[\u001b[0m\u001b[0;34m\"resolvers\"\u001b[0m\u001b[0;34m]\u001b[0m \u001b[0;34m=\u001b[0m \u001b[0mtuple\u001b[0m\u001b[0;34m(\u001b[0m\u001b[0mkwargs\u001b[0m\u001b[0;34m.\u001b[0m\u001b[0mget\u001b[0m\u001b[0;34m(\u001b[0m\u001b[0;34m\"resolvers\"\u001b[0m\u001b[0;34m,\u001b[0m \u001b[0;34m(\u001b[0m\u001b[0;34m)\u001b[0m\u001b[0;34m)\u001b[0m\u001b[0;34m)\u001b[0m \u001b[0;34m+\u001b[0m \u001b[0mresolvers\u001b[0m\u001b[0;34m\u001b[0m\u001b[0;34m\u001b[0m\u001b[0m\n\u001b[1;32m   4611\u001b[0m \u001b[0;34m\u001b[0m\u001b[0m\n\u001b[0;32m-> 4612\u001b[0;31m         \u001b[0;32mreturn\u001b[0m \u001b[0m_eval\u001b[0m\u001b[0;34m(\u001b[0m\u001b[0mexpr\u001b[0m\u001b[0;34m,\u001b[0m \u001b[0minplace\u001b[0m\u001b[0;34m=\u001b[0m\u001b[0minplace\u001b[0m\u001b[0;34m,\u001b[0m \u001b[0;34m**\u001b[0m\u001b[0mkwargs\u001b[0m\u001b[0;34m)\u001b[0m\u001b[0;34m\u001b[0m\u001b[0;34m\u001b[0m\u001b[0m\n\u001b[0m\u001b[1;32m   4613\u001b[0m \u001b[0;34m\u001b[0m\u001b[0m\n\u001b[1;32m   4614\u001b[0m     \u001b[0;32mdef\u001b[0m \u001b[0mselect_dtypes\u001b[0m\u001b[0;34m(\u001b[0m\u001b[0mself\u001b[0m\u001b[0;34m,\u001b[0m \u001b[0minclude\u001b[0m\u001b[0;34m=\u001b[0m\u001b[0;32mNone\u001b[0m\u001b[0;34m,\u001b[0m \u001b[0mexclude\u001b[0m\u001b[0;34m=\u001b[0m\u001b[0;32mNone\u001b[0m\u001b[0;34m)\u001b[0m \u001b[0;34m->\u001b[0m \u001b[0mDataFrame\u001b[0m\u001b[0;34m:\u001b[0m\u001b[0;34m\u001b[0m\u001b[0;34m\u001b[0m\u001b[0m\n",
            "\u001b[0;32m/usr/local/lib/python3.10/dist-packages/pandas/core/computation/eval.py\u001b[0m in \u001b[0;36meval\u001b[0;34m(expr, parser, engine, truediv, local_dict, global_dict, resolvers, level, target, inplace)\u001b[0m\n\u001b[1;32m    351\u001b[0m         )\n\u001b[1;32m    352\u001b[0m \u001b[0;34m\u001b[0m\u001b[0m\n\u001b[0;32m--> 353\u001b[0;31m         \u001b[0mparsed_expr\u001b[0m \u001b[0;34m=\u001b[0m \u001b[0mExpr\u001b[0m\u001b[0;34m(\u001b[0m\u001b[0mexpr\u001b[0m\u001b[0;34m,\u001b[0m \u001b[0mengine\u001b[0m\u001b[0;34m=\u001b[0m\u001b[0mengine\u001b[0m\u001b[0;34m,\u001b[0m \u001b[0mparser\u001b[0m\u001b[0;34m=\u001b[0m\u001b[0mparser\u001b[0m\u001b[0;34m,\u001b[0m \u001b[0menv\u001b[0m\u001b[0;34m=\u001b[0m\u001b[0menv\u001b[0m\u001b[0;34m)\u001b[0m\u001b[0;34m\u001b[0m\u001b[0;34m\u001b[0m\u001b[0m\n\u001b[0m\u001b[1;32m    354\u001b[0m \u001b[0;34m\u001b[0m\u001b[0m\n\u001b[1;32m    355\u001b[0m         \u001b[0;31m# construct the engine and evaluate the parsed expression\u001b[0m\u001b[0;34m\u001b[0m\u001b[0;34m\u001b[0m\u001b[0m\n",
            "\u001b[0;32m/usr/local/lib/python3.10/dist-packages/pandas/core/computation/expr.py\u001b[0m in \u001b[0;36m__init__\u001b[0;34m(self, expr, engine, parser, env, level)\u001b[0m\n\u001b[1;32m    811\u001b[0m         \u001b[0mself\u001b[0m\u001b[0;34m.\u001b[0m\u001b[0mparser\u001b[0m \u001b[0;34m=\u001b[0m \u001b[0mparser\u001b[0m\u001b[0;34m\u001b[0m\u001b[0;34m\u001b[0m\u001b[0m\n\u001b[1;32m    812\u001b[0m         \u001b[0mself\u001b[0m\u001b[0;34m.\u001b[0m\u001b[0m_visitor\u001b[0m \u001b[0;34m=\u001b[0m \u001b[0mPARSERS\u001b[0m\u001b[0;34m[\u001b[0m\u001b[0mparser\u001b[0m\u001b[0;34m]\u001b[0m\u001b[0;34m(\u001b[0m\u001b[0mself\u001b[0m\u001b[0;34m.\u001b[0m\u001b[0menv\u001b[0m\u001b[0;34m,\u001b[0m \u001b[0mself\u001b[0m\u001b[0;34m.\u001b[0m\u001b[0mengine\u001b[0m\u001b[0;34m,\u001b[0m \u001b[0mself\u001b[0m\u001b[0;34m.\u001b[0m\u001b[0mparser\u001b[0m\u001b[0;34m)\u001b[0m\u001b[0;34m\u001b[0m\u001b[0;34m\u001b[0m\u001b[0m\n\u001b[0;32m--> 813\u001b[0;31m         \u001b[0mself\u001b[0m\u001b[0;34m.\u001b[0m\u001b[0mterms\u001b[0m \u001b[0;34m=\u001b[0m \u001b[0mself\u001b[0m\u001b[0;34m.\u001b[0m\u001b[0mparse\u001b[0m\u001b[0;34m(\u001b[0m\u001b[0;34m)\u001b[0m\u001b[0;34m\u001b[0m\u001b[0;34m\u001b[0m\u001b[0m\n\u001b[0m\u001b[1;32m    814\u001b[0m \u001b[0;34m\u001b[0m\u001b[0m\n\u001b[1;32m    815\u001b[0m     \u001b[0;34m@\u001b[0m\u001b[0mproperty\u001b[0m\u001b[0;34m\u001b[0m\u001b[0;34m\u001b[0m\u001b[0m\n",
            "\u001b[0;32m/usr/local/lib/python3.10/dist-packages/pandas/core/computation/expr.py\u001b[0m in \u001b[0;36mparse\u001b[0;34m(self)\u001b[0m\n\u001b[1;32m    830\u001b[0m         \u001b[0mParse\u001b[0m \u001b[0man\u001b[0m \u001b[0mexpression\u001b[0m\u001b[0;34m.\u001b[0m\u001b[0;34m\u001b[0m\u001b[0;34m\u001b[0m\u001b[0m\n\u001b[1;32m    831\u001b[0m         \"\"\"\n\u001b[0;32m--> 832\u001b[0;31m         \u001b[0;32mreturn\u001b[0m \u001b[0mself\u001b[0m\u001b[0;34m.\u001b[0m\u001b[0m_visitor\u001b[0m\u001b[0;34m.\u001b[0m\u001b[0mvisit\u001b[0m\u001b[0;34m(\u001b[0m\u001b[0mself\u001b[0m\u001b[0;34m.\u001b[0m\u001b[0mexpr\u001b[0m\u001b[0;34m)\u001b[0m\u001b[0;34m\u001b[0m\u001b[0;34m\u001b[0m\u001b[0m\n\u001b[0m\u001b[1;32m    833\u001b[0m \u001b[0;34m\u001b[0m\u001b[0m\n\u001b[1;32m    834\u001b[0m     \u001b[0;34m@\u001b[0m\u001b[0mproperty\u001b[0m\u001b[0;34m\u001b[0m\u001b[0;34m\u001b[0m\u001b[0m\n",
            "\u001b[0;32m/usr/local/lib/python3.10/dist-packages/pandas/core/computation/expr.py\u001b[0m in \u001b[0;36mvisit\u001b[0;34m(self, node, **kwargs)\u001b[0m\n\u001b[1;32m    413\u001b[0m         \u001b[0mmethod\u001b[0m \u001b[0;34m=\u001b[0m \u001b[0;34m\"visit_\"\u001b[0m \u001b[0;34m+\u001b[0m \u001b[0mtype\u001b[0m\u001b[0;34m(\u001b[0m\u001b[0mnode\u001b[0m\u001b[0;34m)\u001b[0m\u001b[0;34m.\u001b[0m\u001b[0m__name__\u001b[0m\u001b[0;34m\u001b[0m\u001b[0;34m\u001b[0m\u001b[0m\n\u001b[1;32m    414\u001b[0m         \u001b[0mvisitor\u001b[0m \u001b[0;34m=\u001b[0m \u001b[0mgetattr\u001b[0m\u001b[0;34m(\u001b[0m\u001b[0mself\u001b[0m\u001b[0;34m,\u001b[0m \u001b[0mmethod\u001b[0m\u001b[0;34m)\u001b[0m\u001b[0;34m\u001b[0m\u001b[0;34m\u001b[0m\u001b[0m\n\u001b[0;32m--> 415\u001b[0;31m         \u001b[0;32mreturn\u001b[0m \u001b[0mvisitor\u001b[0m\u001b[0;34m(\u001b[0m\u001b[0mnode\u001b[0m\u001b[0;34m,\u001b[0m \u001b[0;34m**\u001b[0m\u001b[0mkwargs\u001b[0m\u001b[0;34m)\u001b[0m\u001b[0;34m\u001b[0m\u001b[0;34m\u001b[0m\u001b[0m\n\u001b[0m\u001b[1;32m    416\u001b[0m \u001b[0;34m\u001b[0m\u001b[0m\n\u001b[1;32m    417\u001b[0m     \u001b[0;32mdef\u001b[0m \u001b[0mvisit_Module\u001b[0m\u001b[0;34m(\u001b[0m\u001b[0mself\u001b[0m\u001b[0;34m,\u001b[0m \u001b[0mnode\u001b[0m\u001b[0;34m,\u001b[0m \u001b[0;34m**\u001b[0m\u001b[0mkwargs\u001b[0m\u001b[0;34m)\u001b[0m\u001b[0;34m:\u001b[0m\u001b[0;34m\u001b[0m\u001b[0;34m\u001b[0m\u001b[0m\n",
            "\u001b[0;32m/usr/local/lib/python3.10/dist-packages/pandas/core/computation/expr.py\u001b[0m in \u001b[0;36mvisit_Module\u001b[0;34m(self, node, **kwargs)\u001b[0m\n\u001b[1;32m    419\u001b[0m             \u001b[0;32mraise\u001b[0m \u001b[0mSyntaxError\u001b[0m\u001b[0;34m(\u001b[0m\u001b[0;34m\"only a single expression is allowed\"\u001b[0m\u001b[0;34m)\u001b[0m\u001b[0;34m\u001b[0m\u001b[0;34m\u001b[0m\u001b[0m\n\u001b[1;32m    420\u001b[0m         \u001b[0mexpr\u001b[0m \u001b[0;34m=\u001b[0m \u001b[0mnode\u001b[0m\u001b[0;34m.\u001b[0m\u001b[0mbody\u001b[0m\u001b[0;34m[\u001b[0m\u001b[0;36m0\u001b[0m\u001b[0;34m]\u001b[0m\u001b[0;34m\u001b[0m\u001b[0;34m\u001b[0m\u001b[0m\n\u001b[0;32m--> 421\u001b[0;31m         \u001b[0;32mreturn\u001b[0m \u001b[0mself\u001b[0m\u001b[0;34m.\u001b[0m\u001b[0mvisit\u001b[0m\u001b[0;34m(\u001b[0m\u001b[0mexpr\u001b[0m\u001b[0;34m,\u001b[0m \u001b[0;34m**\u001b[0m\u001b[0mkwargs\u001b[0m\u001b[0;34m)\u001b[0m\u001b[0;34m\u001b[0m\u001b[0;34m\u001b[0m\u001b[0m\n\u001b[0m\u001b[1;32m    422\u001b[0m \u001b[0;34m\u001b[0m\u001b[0m\n\u001b[1;32m    423\u001b[0m     \u001b[0;32mdef\u001b[0m \u001b[0mvisit_Expr\u001b[0m\u001b[0;34m(\u001b[0m\u001b[0mself\u001b[0m\u001b[0;34m,\u001b[0m \u001b[0mnode\u001b[0m\u001b[0;34m,\u001b[0m \u001b[0;34m**\u001b[0m\u001b[0mkwargs\u001b[0m\u001b[0;34m)\u001b[0m\u001b[0;34m:\u001b[0m\u001b[0;34m\u001b[0m\u001b[0;34m\u001b[0m\u001b[0m\n",
            "\u001b[0;32m/usr/local/lib/python3.10/dist-packages/pandas/core/computation/expr.py\u001b[0m in \u001b[0;36mvisit\u001b[0;34m(self, node, **kwargs)\u001b[0m\n\u001b[1;32m    413\u001b[0m         \u001b[0mmethod\u001b[0m \u001b[0;34m=\u001b[0m \u001b[0;34m\"visit_\"\u001b[0m \u001b[0;34m+\u001b[0m \u001b[0mtype\u001b[0m\u001b[0;34m(\u001b[0m\u001b[0mnode\u001b[0m\u001b[0;34m)\u001b[0m\u001b[0;34m.\u001b[0m\u001b[0m__name__\u001b[0m\u001b[0;34m\u001b[0m\u001b[0;34m\u001b[0m\u001b[0m\n\u001b[1;32m    414\u001b[0m         \u001b[0mvisitor\u001b[0m \u001b[0;34m=\u001b[0m \u001b[0mgetattr\u001b[0m\u001b[0;34m(\u001b[0m\u001b[0mself\u001b[0m\u001b[0;34m,\u001b[0m \u001b[0mmethod\u001b[0m\u001b[0;34m)\u001b[0m\u001b[0;34m\u001b[0m\u001b[0;34m\u001b[0m\u001b[0m\n\u001b[0;32m--> 415\u001b[0;31m         \u001b[0;32mreturn\u001b[0m \u001b[0mvisitor\u001b[0m\u001b[0;34m(\u001b[0m\u001b[0mnode\u001b[0m\u001b[0;34m,\u001b[0m \u001b[0;34m**\u001b[0m\u001b[0mkwargs\u001b[0m\u001b[0;34m)\u001b[0m\u001b[0;34m\u001b[0m\u001b[0;34m\u001b[0m\u001b[0m\n\u001b[0m\u001b[1;32m    416\u001b[0m \u001b[0;34m\u001b[0m\u001b[0m\n\u001b[1;32m    417\u001b[0m     \u001b[0;32mdef\u001b[0m \u001b[0mvisit_Module\u001b[0m\u001b[0;34m(\u001b[0m\u001b[0mself\u001b[0m\u001b[0;34m,\u001b[0m \u001b[0mnode\u001b[0m\u001b[0;34m,\u001b[0m \u001b[0;34m**\u001b[0m\u001b[0mkwargs\u001b[0m\u001b[0;34m)\u001b[0m\u001b[0;34m:\u001b[0m\u001b[0;34m\u001b[0m\u001b[0;34m\u001b[0m\u001b[0m\n",
            "\u001b[0;32m/usr/local/lib/python3.10/dist-packages/pandas/core/computation/expr.py\u001b[0m in \u001b[0;36mvisit_Expr\u001b[0;34m(self, node, **kwargs)\u001b[0m\n\u001b[1;32m    422\u001b[0m \u001b[0;34m\u001b[0m\u001b[0m\n\u001b[1;32m    423\u001b[0m     \u001b[0;32mdef\u001b[0m \u001b[0mvisit_Expr\u001b[0m\u001b[0;34m(\u001b[0m\u001b[0mself\u001b[0m\u001b[0;34m,\u001b[0m \u001b[0mnode\u001b[0m\u001b[0;34m,\u001b[0m \u001b[0;34m**\u001b[0m\u001b[0mkwargs\u001b[0m\u001b[0;34m)\u001b[0m\u001b[0;34m:\u001b[0m\u001b[0;34m\u001b[0m\u001b[0;34m\u001b[0m\u001b[0m\n\u001b[0;32m--> 424\u001b[0;31m         \u001b[0;32mreturn\u001b[0m \u001b[0mself\u001b[0m\u001b[0;34m.\u001b[0m\u001b[0mvisit\u001b[0m\u001b[0;34m(\u001b[0m\u001b[0mnode\u001b[0m\u001b[0;34m.\u001b[0m\u001b[0mvalue\u001b[0m\u001b[0;34m,\u001b[0m \u001b[0;34m**\u001b[0m\u001b[0mkwargs\u001b[0m\u001b[0;34m)\u001b[0m\u001b[0;34m\u001b[0m\u001b[0;34m\u001b[0m\u001b[0m\n\u001b[0m\u001b[1;32m    425\u001b[0m \u001b[0;34m\u001b[0m\u001b[0m\n\u001b[1;32m    426\u001b[0m     \u001b[0;32mdef\u001b[0m \u001b[0m_rewrite_membership_op\u001b[0m\u001b[0;34m(\u001b[0m\u001b[0mself\u001b[0m\u001b[0;34m,\u001b[0m \u001b[0mnode\u001b[0m\u001b[0;34m,\u001b[0m \u001b[0mleft\u001b[0m\u001b[0;34m,\u001b[0m \u001b[0mright\u001b[0m\u001b[0;34m)\u001b[0m\u001b[0;34m:\u001b[0m\u001b[0;34m\u001b[0m\u001b[0;34m\u001b[0m\u001b[0m\n",
            "\u001b[0;32m/usr/local/lib/python3.10/dist-packages/pandas/core/computation/expr.py\u001b[0m in \u001b[0;36mvisit\u001b[0;34m(self, node, **kwargs)\u001b[0m\n\u001b[1;32m    413\u001b[0m         \u001b[0mmethod\u001b[0m \u001b[0;34m=\u001b[0m \u001b[0;34m\"visit_\"\u001b[0m \u001b[0;34m+\u001b[0m \u001b[0mtype\u001b[0m\u001b[0;34m(\u001b[0m\u001b[0mnode\u001b[0m\u001b[0;34m)\u001b[0m\u001b[0;34m.\u001b[0m\u001b[0m__name__\u001b[0m\u001b[0;34m\u001b[0m\u001b[0;34m\u001b[0m\u001b[0m\n\u001b[1;32m    414\u001b[0m         \u001b[0mvisitor\u001b[0m \u001b[0;34m=\u001b[0m \u001b[0mgetattr\u001b[0m\u001b[0;34m(\u001b[0m\u001b[0mself\u001b[0m\u001b[0;34m,\u001b[0m \u001b[0mmethod\u001b[0m\u001b[0;34m)\u001b[0m\u001b[0;34m\u001b[0m\u001b[0;34m\u001b[0m\u001b[0m\n\u001b[0;32m--> 415\u001b[0;31m         \u001b[0;32mreturn\u001b[0m \u001b[0mvisitor\u001b[0m\u001b[0;34m(\u001b[0m\u001b[0mnode\u001b[0m\u001b[0;34m,\u001b[0m \u001b[0;34m**\u001b[0m\u001b[0mkwargs\u001b[0m\u001b[0;34m)\u001b[0m\u001b[0;34m\u001b[0m\u001b[0;34m\u001b[0m\u001b[0m\n\u001b[0m\u001b[1;32m    416\u001b[0m \u001b[0;34m\u001b[0m\u001b[0m\n\u001b[1;32m    417\u001b[0m     \u001b[0;32mdef\u001b[0m \u001b[0mvisit_Module\u001b[0m\u001b[0;34m(\u001b[0m\u001b[0mself\u001b[0m\u001b[0;34m,\u001b[0m \u001b[0mnode\u001b[0m\u001b[0;34m,\u001b[0m \u001b[0;34m**\u001b[0m\u001b[0mkwargs\u001b[0m\u001b[0;34m)\u001b[0m\u001b[0;34m:\u001b[0m\u001b[0;34m\u001b[0m\u001b[0;34m\u001b[0m\u001b[0m\n",
            "\u001b[0;32m/usr/local/lib/python3.10/dist-packages/pandas/core/computation/expr.py\u001b[0m in \u001b[0;36mvisit_BoolOp\u001b[0;34m(self, node, **kwargs)\u001b[0m\n\u001b[1;32m    748\u001b[0m \u001b[0;34m\u001b[0m\u001b[0m\n\u001b[1;32m    749\u001b[0m         \u001b[0moperands\u001b[0m \u001b[0;34m=\u001b[0m \u001b[0mnode\u001b[0m\u001b[0;34m.\u001b[0m\u001b[0mvalues\u001b[0m\u001b[0;34m\u001b[0m\u001b[0;34m\u001b[0m\u001b[0m\n\u001b[0;32m--> 750\u001b[0;31m         \u001b[0;32mreturn\u001b[0m \u001b[0mreduce\u001b[0m\u001b[0;34m(\u001b[0m\u001b[0mvisitor\u001b[0m\u001b[0;34m,\u001b[0m \u001b[0moperands\u001b[0m\u001b[0;34m)\u001b[0m\u001b[0;34m\u001b[0m\u001b[0;34m\u001b[0m\u001b[0m\n\u001b[0m\u001b[1;32m    751\u001b[0m \u001b[0;34m\u001b[0m\u001b[0m\n\u001b[1;32m    752\u001b[0m \u001b[0;34m\u001b[0m\u001b[0m\n",
            "\u001b[0;32m/usr/local/lib/python3.10/dist-packages/pandas/core/computation/expr.py\u001b[0m in \u001b[0;36mvisitor\u001b[0;34m(x, y)\u001b[0m\n\u001b[1;32m    742\u001b[0m         \u001b[0;32mdef\u001b[0m \u001b[0mvisitor\u001b[0m\u001b[0;34m(\u001b[0m\u001b[0mx\u001b[0m\u001b[0;34m,\u001b[0m \u001b[0my\u001b[0m\u001b[0;34m)\u001b[0m\u001b[0;34m:\u001b[0m\u001b[0;34m\u001b[0m\u001b[0;34m\u001b[0m\u001b[0m\n\u001b[1;32m    743\u001b[0m             \u001b[0mlhs\u001b[0m \u001b[0;34m=\u001b[0m \u001b[0mself\u001b[0m\u001b[0;34m.\u001b[0m\u001b[0m_try_visit_binop\u001b[0m\u001b[0;34m(\u001b[0m\u001b[0mx\u001b[0m\u001b[0;34m)\u001b[0m\u001b[0;34m\u001b[0m\u001b[0;34m\u001b[0m\u001b[0m\n\u001b[0;32m--> 744\u001b[0;31m             \u001b[0mrhs\u001b[0m \u001b[0;34m=\u001b[0m \u001b[0mself\u001b[0m\u001b[0;34m.\u001b[0m\u001b[0m_try_visit_binop\u001b[0m\u001b[0;34m(\u001b[0m\u001b[0my\u001b[0m\u001b[0;34m)\u001b[0m\u001b[0;34m\u001b[0m\u001b[0;34m\u001b[0m\u001b[0m\n\u001b[0m\u001b[1;32m    745\u001b[0m \u001b[0;34m\u001b[0m\u001b[0m\n\u001b[1;32m    746\u001b[0m             \u001b[0mop\u001b[0m\u001b[0;34m,\u001b[0m \u001b[0mop_class\u001b[0m\u001b[0;34m,\u001b[0m \u001b[0mlhs\u001b[0m\u001b[0;34m,\u001b[0m \u001b[0mrhs\u001b[0m \u001b[0;34m=\u001b[0m \u001b[0mself\u001b[0m\u001b[0;34m.\u001b[0m\u001b[0m_maybe_transform_eq_ne\u001b[0m\u001b[0;34m(\u001b[0m\u001b[0mnode\u001b[0m\u001b[0;34m,\u001b[0m \u001b[0mlhs\u001b[0m\u001b[0;34m,\u001b[0m \u001b[0mrhs\u001b[0m\u001b[0;34m)\u001b[0m\u001b[0;34m\u001b[0m\u001b[0;34m\u001b[0m\u001b[0m\n",
            "\u001b[0;32m/usr/local/lib/python3.10/dist-packages/pandas/core/computation/expr.py\u001b[0m in \u001b[0;36m_try_visit_binop\u001b[0;34m(self, bop)\u001b[0m\n\u001b[1;32m    737\u001b[0m         \u001b[0;32mif\u001b[0m \u001b[0misinstance\u001b[0m\u001b[0;34m(\u001b[0m\u001b[0mbop\u001b[0m\u001b[0;34m,\u001b[0m \u001b[0;34m(\u001b[0m\u001b[0mOp\u001b[0m\u001b[0;34m,\u001b[0m \u001b[0mTerm\u001b[0m\u001b[0;34m)\u001b[0m\u001b[0;34m)\u001b[0m\u001b[0;34m:\u001b[0m\u001b[0;34m\u001b[0m\u001b[0;34m\u001b[0m\u001b[0m\n\u001b[1;32m    738\u001b[0m             \u001b[0;32mreturn\u001b[0m \u001b[0mbop\u001b[0m\u001b[0;34m\u001b[0m\u001b[0;34m\u001b[0m\u001b[0m\n\u001b[0;32m--> 739\u001b[0;31m         \u001b[0;32mreturn\u001b[0m \u001b[0mself\u001b[0m\u001b[0;34m.\u001b[0m\u001b[0mvisit\u001b[0m\u001b[0;34m(\u001b[0m\u001b[0mbop\u001b[0m\u001b[0;34m)\u001b[0m\u001b[0;34m\u001b[0m\u001b[0;34m\u001b[0m\u001b[0m\n\u001b[0m\u001b[1;32m    740\u001b[0m \u001b[0;34m\u001b[0m\u001b[0m\n\u001b[1;32m    741\u001b[0m     \u001b[0;32mdef\u001b[0m \u001b[0mvisit_BoolOp\u001b[0m\u001b[0;34m(\u001b[0m\u001b[0mself\u001b[0m\u001b[0;34m,\u001b[0m \u001b[0mnode\u001b[0m\u001b[0;34m,\u001b[0m \u001b[0;34m**\u001b[0m\u001b[0mkwargs\u001b[0m\u001b[0;34m)\u001b[0m\u001b[0;34m:\u001b[0m\u001b[0;34m\u001b[0m\u001b[0;34m\u001b[0m\u001b[0m\n",
            "\u001b[0;32m/usr/local/lib/python3.10/dist-packages/pandas/core/computation/expr.py\u001b[0m in \u001b[0;36mvisit\u001b[0;34m(self, node, **kwargs)\u001b[0m\n\u001b[1;32m    413\u001b[0m         \u001b[0mmethod\u001b[0m \u001b[0;34m=\u001b[0m \u001b[0;34m\"visit_\"\u001b[0m \u001b[0;34m+\u001b[0m \u001b[0mtype\u001b[0m\u001b[0;34m(\u001b[0m\u001b[0mnode\u001b[0m\u001b[0;34m)\u001b[0m\u001b[0;34m.\u001b[0m\u001b[0m__name__\u001b[0m\u001b[0;34m\u001b[0m\u001b[0;34m\u001b[0m\u001b[0m\n\u001b[1;32m    414\u001b[0m         \u001b[0mvisitor\u001b[0m \u001b[0;34m=\u001b[0m \u001b[0mgetattr\u001b[0m\u001b[0;34m(\u001b[0m\u001b[0mself\u001b[0m\u001b[0;34m,\u001b[0m \u001b[0mmethod\u001b[0m\u001b[0;34m)\u001b[0m\u001b[0;34m\u001b[0m\u001b[0;34m\u001b[0m\u001b[0m\n\u001b[0;32m--> 415\u001b[0;31m         \u001b[0;32mreturn\u001b[0m \u001b[0mvisitor\u001b[0m\u001b[0;34m(\u001b[0m\u001b[0mnode\u001b[0m\u001b[0;34m,\u001b[0m \u001b[0;34m**\u001b[0m\u001b[0mkwargs\u001b[0m\u001b[0;34m)\u001b[0m\u001b[0;34m\u001b[0m\u001b[0;34m\u001b[0m\u001b[0m\n\u001b[0m\u001b[1;32m    416\u001b[0m \u001b[0;34m\u001b[0m\u001b[0m\n\u001b[1;32m    417\u001b[0m     \u001b[0;32mdef\u001b[0m \u001b[0mvisit_Module\u001b[0m\u001b[0;34m(\u001b[0m\u001b[0mself\u001b[0m\u001b[0;34m,\u001b[0m \u001b[0mnode\u001b[0m\u001b[0;34m,\u001b[0m \u001b[0;34m**\u001b[0m\u001b[0mkwargs\u001b[0m\u001b[0;34m)\u001b[0m\u001b[0;34m:\u001b[0m\u001b[0;34m\u001b[0m\u001b[0;34m\u001b[0m\u001b[0m\n",
            "\u001b[0;32m/usr/local/lib/python3.10/dist-packages/pandas/core/computation/expr.py\u001b[0m in \u001b[0;36mvisit_Compare\u001b[0;34m(self, node, **kwargs)\u001b[0m\n\u001b[1;32m    721\u001b[0m             \u001b[0mop\u001b[0m \u001b[0;34m=\u001b[0m \u001b[0mself\u001b[0m\u001b[0;34m.\u001b[0m\u001b[0mtranslate_In\u001b[0m\u001b[0;34m(\u001b[0m\u001b[0mops\u001b[0m\u001b[0;34m[\u001b[0m\u001b[0;36m0\u001b[0m\u001b[0;34m]\u001b[0m\u001b[0;34m)\u001b[0m\u001b[0;34m\u001b[0m\u001b[0;34m\u001b[0m\u001b[0m\n\u001b[1;32m    722\u001b[0m             \u001b[0mbinop\u001b[0m \u001b[0;34m=\u001b[0m \u001b[0mast\u001b[0m\u001b[0;34m.\u001b[0m\u001b[0mBinOp\u001b[0m\u001b[0;34m(\u001b[0m\u001b[0mop\u001b[0m\u001b[0;34m=\u001b[0m\u001b[0mop\u001b[0m\u001b[0;34m,\u001b[0m \u001b[0mleft\u001b[0m\u001b[0;34m=\u001b[0m\u001b[0mnode\u001b[0m\u001b[0;34m.\u001b[0m\u001b[0mleft\u001b[0m\u001b[0;34m,\u001b[0m \u001b[0mright\u001b[0m\u001b[0;34m=\u001b[0m\u001b[0mcomps\u001b[0m\u001b[0;34m[\u001b[0m\u001b[0;36m0\u001b[0m\u001b[0;34m]\u001b[0m\u001b[0;34m)\u001b[0m\u001b[0;34m\u001b[0m\u001b[0;34m\u001b[0m\u001b[0m\n\u001b[0;32m--> 723\u001b[0;31m             \u001b[0;32mreturn\u001b[0m \u001b[0mself\u001b[0m\u001b[0;34m.\u001b[0m\u001b[0mvisit\u001b[0m\u001b[0;34m(\u001b[0m\u001b[0mbinop\u001b[0m\u001b[0;34m)\u001b[0m\u001b[0;34m\u001b[0m\u001b[0;34m\u001b[0m\u001b[0m\n\u001b[0m\u001b[1;32m    724\u001b[0m \u001b[0;34m\u001b[0m\u001b[0m\n\u001b[1;32m    725\u001b[0m         \u001b[0;31m# recursive case: we have a chained comparison, a CMP b CMP c, etc.\u001b[0m\u001b[0;34m\u001b[0m\u001b[0;34m\u001b[0m\u001b[0m\n",
            "\u001b[0;32m/usr/local/lib/python3.10/dist-packages/pandas/core/computation/expr.py\u001b[0m in \u001b[0;36mvisit\u001b[0;34m(self, node, **kwargs)\u001b[0m\n\u001b[1;32m    413\u001b[0m         \u001b[0mmethod\u001b[0m \u001b[0;34m=\u001b[0m \u001b[0;34m\"visit_\"\u001b[0m \u001b[0;34m+\u001b[0m \u001b[0mtype\u001b[0m\u001b[0;34m(\u001b[0m\u001b[0mnode\u001b[0m\u001b[0;34m)\u001b[0m\u001b[0;34m.\u001b[0m\u001b[0m__name__\u001b[0m\u001b[0;34m\u001b[0m\u001b[0;34m\u001b[0m\u001b[0m\n\u001b[1;32m    414\u001b[0m         \u001b[0mvisitor\u001b[0m \u001b[0;34m=\u001b[0m \u001b[0mgetattr\u001b[0m\u001b[0;34m(\u001b[0m\u001b[0mself\u001b[0m\u001b[0;34m,\u001b[0m \u001b[0mmethod\u001b[0m\u001b[0;34m)\u001b[0m\u001b[0;34m\u001b[0m\u001b[0;34m\u001b[0m\u001b[0m\n\u001b[0;32m--> 415\u001b[0;31m         \u001b[0;32mreturn\u001b[0m \u001b[0mvisitor\u001b[0m\u001b[0;34m(\u001b[0m\u001b[0mnode\u001b[0m\u001b[0;34m,\u001b[0m \u001b[0;34m**\u001b[0m\u001b[0mkwargs\u001b[0m\u001b[0;34m)\u001b[0m\u001b[0;34m\u001b[0m\u001b[0;34m\u001b[0m\u001b[0m\n\u001b[0m\u001b[1;32m    416\u001b[0m \u001b[0;34m\u001b[0m\u001b[0m\n\u001b[1;32m    417\u001b[0m     \u001b[0;32mdef\u001b[0m \u001b[0mvisit_Module\u001b[0m\u001b[0;34m(\u001b[0m\u001b[0mself\u001b[0m\u001b[0;34m,\u001b[0m \u001b[0mnode\u001b[0m\u001b[0;34m,\u001b[0m \u001b[0;34m**\u001b[0m\u001b[0mkwargs\u001b[0m\u001b[0;34m)\u001b[0m\u001b[0;34m:\u001b[0m\u001b[0;34m\u001b[0m\u001b[0;34m\u001b[0m\u001b[0m\n",
            "\u001b[0;32m/usr/local/lib/python3.10/dist-packages/pandas/core/computation/expr.py\u001b[0m in \u001b[0;36mvisit_BinOp\u001b[0;34m(self, node, **kwargs)\u001b[0m\n\u001b[1;32m    534\u001b[0m \u001b[0;34m\u001b[0m\u001b[0m\n\u001b[1;32m    535\u001b[0m     \u001b[0;32mdef\u001b[0m \u001b[0mvisit_BinOp\u001b[0m\u001b[0;34m(\u001b[0m\u001b[0mself\u001b[0m\u001b[0;34m,\u001b[0m \u001b[0mnode\u001b[0m\u001b[0;34m,\u001b[0m \u001b[0;34m**\u001b[0m\u001b[0mkwargs\u001b[0m\u001b[0;34m)\u001b[0m\u001b[0;34m:\u001b[0m\u001b[0;34m\u001b[0m\u001b[0;34m\u001b[0m\u001b[0m\n\u001b[0;32m--> 536\u001b[0;31m         \u001b[0mop\u001b[0m\u001b[0;34m,\u001b[0m \u001b[0mop_class\u001b[0m\u001b[0;34m,\u001b[0m \u001b[0mleft\u001b[0m\u001b[0;34m,\u001b[0m \u001b[0mright\u001b[0m \u001b[0;34m=\u001b[0m \u001b[0mself\u001b[0m\u001b[0;34m.\u001b[0m\u001b[0m_maybe_transform_eq_ne\u001b[0m\u001b[0;34m(\u001b[0m\u001b[0mnode\u001b[0m\u001b[0;34m)\u001b[0m\u001b[0;34m\u001b[0m\u001b[0;34m\u001b[0m\u001b[0m\n\u001b[0m\u001b[1;32m    537\u001b[0m         \u001b[0mleft\u001b[0m\u001b[0;34m,\u001b[0m \u001b[0mright\u001b[0m \u001b[0;34m=\u001b[0m \u001b[0mself\u001b[0m\u001b[0;34m.\u001b[0m\u001b[0m_maybe_downcast_constants\u001b[0m\u001b[0;34m(\u001b[0m\u001b[0mleft\u001b[0m\u001b[0;34m,\u001b[0m \u001b[0mright\u001b[0m\u001b[0;34m)\u001b[0m\u001b[0;34m\u001b[0m\u001b[0;34m\u001b[0m\u001b[0m\n\u001b[1;32m    538\u001b[0m         \u001b[0;32mreturn\u001b[0m \u001b[0mself\u001b[0m\u001b[0;34m.\u001b[0m\u001b[0m_maybe_evaluate_binop\u001b[0m\u001b[0;34m(\u001b[0m\u001b[0mop\u001b[0m\u001b[0;34m,\u001b[0m \u001b[0mop_class\u001b[0m\u001b[0;34m,\u001b[0m \u001b[0mleft\u001b[0m\u001b[0;34m,\u001b[0m \u001b[0mright\u001b[0m\u001b[0;34m)\u001b[0m\u001b[0;34m\u001b[0m\u001b[0;34m\u001b[0m\u001b[0m\n",
            "\u001b[0;32m/usr/local/lib/python3.10/dist-packages/pandas/core/computation/expr.py\u001b[0m in \u001b[0;36m_maybe_transform_eq_ne\u001b[0;34m(self, node, left, right)\u001b[0m\n\u001b[1;32m    454\u001b[0m     \u001b[0;32mdef\u001b[0m \u001b[0m_maybe_transform_eq_ne\u001b[0m\u001b[0;34m(\u001b[0m\u001b[0mself\u001b[0m\u001b[0;34m,\u001b[0m \u001b[0mnode\u001b[0m\u001b[0;34m,\u001b[0m \u001b[0mleft\u001b[0m\u001b[0;34m=\u001b[0m\u001b[0;32mNone\u001b[0m\u001b[0;34m,\u001b[0m \u001b[0mright\u001b[0m\u001b[0;34m=\u001b[0m\u001b[0;32mNone\u001b[0m\u001b[0;34m)\u001b[0m\u001b[0;34m:\u001b[0m\u001b[0;34m\u001b[0m\u001b[0;34m\u001b[0m\u001b[0m\n\u001b[1;32m    455\u001b[0m         \u001b[0;32mif\u001b[0m \u001b[0mleft\u001b[0m \u001b[0;32mis\u001b[0m \u001b[0;32mNone\u001b[0m\u001b[0;34m:\u001b[0m\u001b[0;34m\u001b[0m\u001b[0;34m\u001b[0m\u001b[0m\n\u001b[0;32m--> 456\u001b[0;31m             \u001b[0mleft\u001b[0m \u001b[0;34m=\u001b[0m \u001b[0mself\u001b[0m\u001b[0;34m.\u001b[0m\u001b[0mvisit\u001b[0m\u001b[0;34m(\u001b[0m\u001b[0mnode\u001b[0m\u001b[0;34m.\u001b[0m\u001b[0mleft\u001b[0m\u001b[0;34m,\u001b[0m \u001b[0mside\u001b[0m\u001b[0;34m=\u001b[0m\u001b[0;34m\"left\"\u001b[0m\u001b[0;34m)\u001b[0m\u001b[0;34m\u001b[0m\u001b[0;34m\u001b[0m\u001b[0m\n\u001b[0m\u001b[1;32m    457\u001b[0m         \u001b[0;32mif\u001b[0m \u001b[0mright\u001b[0m \u001b[0;32mis\u001b[0m \u001b[0;32mNone\u001b[0m\u001b[0;34m:\u001b[0m\u001b[0;34m\u001b[0m\u001b[0;34m\u001b[0m\u001b[0m\n\u001b[1;32m    458\u001b[0m             \u001b[0mright\u001b[0m \u001b[0;34m=\u001b[0m \u001b[0mself\u001b[0m\u001b[0;34m.\u001b[0m\u001b[0mvisit\u001b[0m\u001b[0;34m(\u001b[0m\u001b[0mnode\u001b[0m\u001b[0;34m.\u001b[0m\u001b[0mright\u001b[0m\u001b[0;34m,\u001b[0m \u001b[0mside\u001b[0m\u001b[0;34m=\u001b[0m\u001b[0;34m\"right\"\u001b[0m\u001b[0;34m)\u001b[0m\u001b[0;34m\u001b[0m\u001b[0;34m\u001b[0m\u001b[0m\n",
            "\u001b[0;32m/usr/local/lib/python3.10/dist-packages/pandas/core/computation/expr.py\u001b[0m in \u001b[0;36mvisit\u001b[0;34m(self, node, **kwargs)\u001b[0m\n\u001b[1;32m    413\u001b[0m         \u001b[0mmethod\u001b[0m \u001b[0;34m=\u001b[0m \u001b[0;34m\"visit_\"\u001b[0m \u001b[0;34m+\u001b[0m \u001b[0mtype\u001b[0m\u001b[0;34m(\u001b[0m\u001b[0mnode\u001b[0m\u001b[0;34m)\u001b[0m\u001b[0;34m.\u001b[0m\u001b[0m__name__\u001b[0m\u001b[0;34m\u001b[0m\u001b[0;34m\u001b[0m\u001b[0m\n\u001b[1;32m    414\u001b[0m         \u001b[0mvisitor\u001b[0m \u001b[0;34m=\u001b[0m \u001b[0mgetattr\u001b[0m\u001b[0;34m(\u001b[0m\u001b[0mself\u001b[0m\u001b[0;34m,\u001b[0m \u001b[0mmethod\u001b[0m\u001b[0;34m)\u001b[0m\u001b[0;34m\u001b[0m\u001b[0;34m\u001b[0m\u001b[0m\n\u001b[0;32m--> 415\u001b[0;31m         \u001b[0;32mreturn\u001b[0m \u001b[0mvisitor\u001b[0m\u001b[0;34m(\u001b[0m\u001b[0mnode\u001b[0m\u001b[0;34m,\u001b[0m \u001b[0;34m**\u001b[0m\u001b[0mkwargs\u001b[0m\u001b[0;34m)\u001b[0m\u001b[0;34m\u001b[0m\u001b[0;34m\u001b[0m\u001b[0m\n\u001b[0m\u001b[1;32m    416\u001b[0m \u001b[0;34m\u001b[0m\u001b[0m\n\u001b[1;32m    417\u001b[0m     \u001b[0;32mdef\u001b[0m \u001b[0mvisit_Module\u001b[0m\u001b[0;34m(\u001b[0m\u001b[0mself\u001b[0m\u001b[0;34m,\u001b[0m \u001b[0mnode\u001b[0m\u001b[0;34m,\u001b[0m \u001b[0;34m**\u001b[0m\u001b[0mkwargs\u001b[0m\u001b[0;34m)\u001b[0m\u001b[0;34m:\u001b[0m\u001b[0;34m\u001b[0m\u001b[0;34m\u001b[0m\u001b[0m\n",
            "\u001b[0;32m/usr/local/lib/python3.10/dist-packages/pandas/core/computation/expr.py\u001b[0m in \u001b[0;36mvisit_Name\u001b[0;34m(self, node, **kwargs)\u001b[0m\n\u001b[1;32m    547\u001b[0m \u001b[0;34m\u001b[0m\u001b[0m\n\u001b[1;32m    548\u001b[0m     \u001b[0;32mdef\u001b[0m \u001b[0mvisit_Name\u001b[0m\u001b[0;34m(\u001b[0m\u001b[0mself\u001b[0m\u001b[0;34m,\u001b[0m \u001b[0mnode\u001b[0m\u001b[0;34m,\u001b[0m \u001b[0;34m**\u001b[0m\u001b[0mkwargs\u001b[0m\u001b[0;34m)\u001b[0m\u001b[0;34m:\u001b[0m\u001b[0;34m\u001b[0m\u001b[0;34m\u001b[0m\u001b[0m\n\u001b[0;32m--> 549\u001b[0;31m         \u001b[0;32mreturn\u001b[0m \u001b[0mself\u001b[0m\u001b[0;34m.\u001b[0m\u001b[0mterm_type\u001b[0m\u001b[0;34m(\u001b[0m\u001b[0mnode\u001b[0m\u001b[0;34m.\u001b[0m\u001b[0mid\u001b[0m\u001b[0;34m,\u001b[0m \u001b[0mself\u001b[0m\u001b[0;34m.\u001b[0m\u001b[0menv\u001b[0m\u001b[0;34m,\u001b[0m \u001b[0;34m**\u001b[0m\u001b[0mkwargs\u001b[0m\u001b[0;34m)\u001b[0m\u001b[0;34m\u001b[0m\u001b[0;34m\u001b[0m\u001b[0m\n\u001b[0m\u001b[1;32m    550\u001b[0m \u001b[0;34m\u001b[0m\u001b[0m\n\u001b[1;32m    551\u001b[0m     \u001b[0;32mdef\u001b[0m \u001b[0mvisit_NameConstant\u001b[0m\u001b[0;34m(\u001b[0m\u001b[0mself\u001b[0m\u001b[0;34m,\u001b[0m \u001b[0mnode\u001b[0m\u001b[0;34m,\u001b[0m \u001b[0;34m**\u001b[0m\u001b[0mkwargs\u001b[0m\u001b[0;34m)\u001b[0m \u001b[0;34m->\u001b[0m \u001b[0mTerm\u001b[0m\u001b[0;34m:\u001b[0m\u001b[0;34m\u001b[0m\u001b[0;34m\u001b[0m\u001b[0m\n",
            "\u001b[0;32m/usr/local/lib/python3.10/dist-packages/pandas/core/computation/ops.py\u001b[0m in \u001b[0;36m__init__\u001b[0;34m(self, name, env, side, encoding)\u001b[0m\n\u001b[1;32m     83\u001b[0m         \u001b[0mtname\u001b[0m \u001b[0;34m=\u001b[0m \u001b[0mstr\u001b[0m\u001b[0;34m(\u001b[0m\u001b[0mname\u001b[0m\u001b[0;34m)\u001b[0m\u001b[0;34m\u001b[0m\u001b[0;34m\u001b[0m\u001b[0m\n\u001b[1;32m     84\u001b[0m         \u001b[0mself\u001b[0m\u001b[0;34m.\u001b[0m\u001b[0mis_local\u001b[0m \u001b[0;34m=\u001b[0m \u001b[0mtname\u001b[0m\u001b[0;34m.\u001b[0m\u001b[0mstartswith\u001b[0m\u001b[0;34m(\u001b[0m\u001b[0mLOCAL_TAG\u001b[0m\u001b[0;34m)\u001b[0m \u001b[0;32mor\u001b[0m \u001b[0mtname\u001b[0m \u001b[0;32min\u001b[0m \u001b[0mDEFAULT_GLOBALS\u001b[0m\u001b[0;34m\u001b[0m\u001b[0;34m\u001b[0m\u001b[0m\n\u001b[0;32m---> 85\u001b[0;31m         \u001b[0mself\u001b[0m\u001b[0;34m.\u001b[0m\u001b[0m_value\u001b[0m \u001b[0;34m=\u001b[0m \u001b[0mself\u001b[0m\u001b[0;34m.\u001b[0m\u001b[0m_resolve_name\u001b[0m\u001b[0;34m(\u001b[0m\u001b[0;34m)\u001b[0m\u001b[0;34m\u001b[0m\u001b[0;34m\u001b[0m\u001b[0m\n\u001b[0m\u001b[1;32m     86\u001b[0m         \u001b[0mself\u001b[0m\u001b[0;34m.\u001b[0m\u001b[0mencoding\u001b[0m \u001b[0;34m=\u001b[0m \u001b[0mencoding\u001b[0m\u001b[0;34m\u001b[0m\u001b[0;34m\u001b[0m\u001b[0m\n\u001b[1;32m     87\u001b[0m \u001b[0;34m\u001b[0m\u001b[0m\n",
            "\u001b[0;32m/usr/local/lib/python3.10/dist-packages/pandas/core/computation/ops.py\u001b[0m in \u001b[0;36m_resolve_name\u001b[0;34m(self)\u001b[0m\n\u001b[1;32m    107\u001b[0m             \u001b[0mis_local\u001b[0m \u001b[0;34m=\u001b[0m \u001b[0;32mFalse\u001b[0m\u001b[0;34m\u001b[0m\u001b[0;34m\u001b[0m\u001b[0m\n\u001b[1;32m    108\u001b[0m \u001b[0;34m\u001b[0m\u001b[0m\n\u001b[0;32m--> 109\u001b[0;31m         \u001b[0mres\u001b[0m \u001b[0;34m=\u001b[0m \u001b[0mself\u001b[0m\u001b[0;34m.\u001b[0m\u001b[0menv\u001b[0m\u001b[0;34m.\u001b[0m\u001b[0mresolve\u001b[0m\u001b[0;34m(\u001b[0m\u001b[0mlocal_name\u001b[0m\u001b[0;34m,\u001b[0m \u001b[0mis_local\u001b[0m\u001b[0;34m=\u001b[0m\u001b[0mis_local\u001b[0m\u001b[0;34m)\u001b[0m\u001b[0;34m\u001b[0m\u001b[0;34m\u001b[0m\u001b[0m\n\u001b[0m\u001b[1;32m    110\u001b[0m         \u001b[0mself\u001b[0m\u001b[0;34m.\u001b[0m\u001b[0mupdate\u001b[0m\u001b[0;34m(\u001b[0m\u001b[0mres\u001b[0m\u001b[0;34m)\u001b[0m\u001b[0;34m\u001b[0m\u001b[0;34m\u001b[0m\u001b[0m\n\u001b[1;32m    111\u001b[0m \u001b[0;34m\u001b[0m\u001b[0m\n",
            "\u001b[0;32m/usr/local/lib/python3.10/dist-packages/pandas/core/computation/scope.py\u001b[0m in \u001b[0;36mresolve\u001b[0;34m(self, key, is_local)\u001b[0m\n\u001b[1;32m    209\u001b[0m                 \u001b[0;32mreturn\u001b[0m \u001b[0mself\u001b[0m\u001b[0;34m.\u001b[0m\u001b[0mtemps\u001b[0m\u001b[0;34m[\u001b[0m\u001b[0mkey\u001b[0m\u001b[0;34m]\u001b[0m\u001b[0;34m\u001b[0m\u001b[0;34m\u001b[0m\u001b[0m\n\u001b[1;32m    210\u001b[0m             \u001b[0;32mexcept\u001b[0m \u001b[0mKeyError\u001b[0m \u001b[0;32mas\u001b[0m \u001b[0merr\u001b[0m\u001b[0;34m:\u001b[0m\u001b[0;34m\u001b[0m\u001b[0;34m\u001b[0m\u001b[0m\n\u001b[0;32m--> 211\u001b[0;31m                 \u001b[0;32mraise\u001b[0m \u001b[0mUndefinedVariableError\u001b[0m\u001b[0;34m(\u001b[0m\u001b[0mkey\u001b[0m\u001b[0;34m,\u001b[0m \u001b[0mis_local\u001b[0m\u001b[0;34m)\u001b[0m \u001b[0;32mfrom\u001b[0m \u001b[0merr\u001b[0m\u001b[0;34m\u001b[0m\u001b[0;34m\u001b[0m\u001b[0m\n\u001b[0m\u001b[1;32m    212\u001b[0m \u001b[0;34m\u001b[0m\u001b[0m\n\u001b[1;32m    213\u001b[0m     \u001b[0;32mdef\u001b[0m \u001b[0mswapkey\u001b[0m\u001b[0;34m(\u001b[0m\u001b[0mself\u001b[0m\u001b[0;34m,\u001b[0m \u001b[0mold_key\u001b[0m\u001b[0;34m:\u001b[0m \u001b[0mstr\u001b[0m\u001b[0;34m,\u001b[0m \u001b[0mnew_key\u001b[0m\u001b[0;34m:\u001b[0m \u001b[0mstr\u001b[0m\u001b[0;34m,\u001b[0m \u001b[0mnew_value\u001b[0m\u001b[0;34m=\u001b[0m\u001b[0;32mNone\u001b[0m\u001b[0;34m)\u001b[0m \u001b[0;34m->\u001b[0m \u001b[0;32mNone\u001b[0m\u001b[0;34m:\u001b[0m\u001b[0;34m\u001b[0m\u001b[0;34m\u001b[0m\u001b[0m\n",
            "\u001b[0;31mUndefinedVariableError\u001b[0m: name 'Division' is not defined"
          ]
        }
      ],
      "source": [
        "#set arguments\n",
        "trend = 'Week == 1 and Division == 1 and Spread > 0'\n",
        "result = 'Off_Pts + Spread > Def_Pts'\n",
        "\n",
        "#display heading\n",
        "print(f'TREND: Week 1 Divisional Underdogs that covered the spread ({min(seasons)} - {max(seasons)})')\n",
        "\n",
        "#call function\n",
        "display_trend(df, trend, result, seasons, weeks, threshold)"
      ]
    },
    {
      "cell_type": "markdown",
      "metadata": {
        "id": "hHjOQ68g3kIh"
      },
      "source": [
        "**Trend #4**"
      ]
    },
    {
      "cell_type": "code",
      "execution_count": null,
      "metadata": {
        "colab": {
          "base_uri": "https://localhost:8080/"
        },
        "id": "6Z2YPSLK3ma3",
        "outputId": "54bcaf31-cf70-44f3-8016-0af1a4bde6eb"
      },
      "outputs": [
        {
          "name": "stdout",
          "output_type": "stream",
          "text": [
            "TREND: Week 1 Underdogs that won 4-6 games the previous season that covered the spread (2015 - 2022)\n",
            "No games met the specified trend condition.\n",
            "\n",
            "Season 2015 trend percent = No games met the trend condition\n",
            "  Week  1, No Games\n",
            "\n",
            "Season 2016 trend percent = No games met the trend condition\n",
            "  Week  1, No Games\n",
            "\n",
            "Season 2017 trend percent = No games met the trend condition\n",
            "  Week  1, No Games\n",
            "\n",
            "Season 2018 trend percent = No games met the trend condition\n",
            "  Week  1, No Games\n",
            "\n",
            "Season 2019 trend percent = No games met the trend condition\n",
            "  Week  1, No Games\n",
            "\n",
            "Season 2020 trend percent = No games met the trend condition\n",
            "  Week  1, No Games\n",
            "\n",
            "Season 2021 trend percent = No games met the trend condition\n",
            "  Week  1, No Games\n",
            "\n",
            "Season 2022 trend percent = No games met the trend condition\n",
            "  Week  1, No Games\n",
            "\n",
            "Seasonal trend hit percentage = 0.00% (0 of 8)\n"
          ]
        }
      ],
      "source": [
        "#set arguments\n",
        "trend = 'Week == 1 and (4 <= Win <= 6) and Spread > 0'\n",
        "result = 'Off_Pts + Spread > Def_Pts'\n",
        "\n",
        "#display heading\n",
        "print(f'TREND: Week 1 Underdogs that won 4-6 games the previous season that covered the spread ({min(seasons)} - {max(seasons)})')\n",
        "\n",
        "#call function\n",
        "display_trend(df, trend, result, seasons, weeks, threshold)"
      ]
    },
    {
      "cell_type": "markdown",
      "metadata": {
        "id": "I1y0jzuH83zM"
      },
      "source": [
        "**Bar Chart (UNFINISHED)**"
      ]
    },
    {
      "cell_type": "code",
      "execution_count": null,
      "metadata": {
        "colab": {
          "base_uri": "https://localhost:8080/",
          "height": 390
        },
        "id": "KxfmgsFs86YK",
        "outputId": "4702710e-1c6f-436b-902d-6232e17ff01a"
      },
      "outputs": [
        {
          "ename": "ValueError",
          "evalue": "ignored",
          "output_type": "error",
          "traceback": [
            "\u001b[0;31m---------------------------------------------------------------------------\u001b[0m",
            "\u001b[0;31mValueError\u001b[0m                                Traceback (most recent call last)",
            "\u001b[0;32m<ipython-input-95-3a5b6d1466bf>\u001b[0m in \u001b[0;36m<cell line: 6>\u001b[0;34m()\u001b[0m\n\u001b[1;32m      4\u001b[0m \u001b[0;34m\u001b[0m\u001b[0m\n\u001b[1;32m      5\u001b[0m \u001b[0;31m#create dataframe for season trends\u001b[0m\u001b[0;34m\u001b[0m\u001b[0;34m\u001b[0m\u001b[0m\n\u001b[0;32m----> 6\u001b[0;31m seas_df = pd.DataFrame({'Seasons': x,\n\u001b[0m\u001b[1;32m      7\u001b[0m                         \u001b[0;34m'All Dogs'\u001b[0m\u001b[0;34m:\u001b[0m \u001b[0my\u001b[0m\u001b[0;34m[\u001b[0m\u001b[0;36m0\u001b[0m\u001b[0;34m]\u001b[0m\u001b[0;34m,\u001b[0m\u001b[0;34m\u001b[0m\u001b[0;34m\u001b[0m\u001b[0m\n\u001b[1;32m      8\u001b[0m                         \u001b[0;34m'Dogs with 6.5+ points'\u001b[0m\u001b[0;34m:\u001b[0m \u001b[0my\u001b[0m\u001b[0;34m[\u001b[0m\u001b[0;36m1\u001b[0m\u001b[0;34m]\u001b[0m\u001b[0;34m,\u001b[0m\u001b[0;34m\u001b[0m\u001b[0;34m\u001b[0m\u001b[0m\n",
            "\u001b[0;32m/usr/local/lib/python3.10/dist-packages/pandas/core/frame.py\u001b[0m in \u001b[0;36m__init__\u001b[0;34m(self, data, index, columns, dtype, copy)\u001b[0m\n\u001b[1;32m    662\u001b[0m         \u001b[0;32melif\u001b[0m \u001b[0misinstance\u001b[0m\u001b[0;34m(\u001b[0m\u001b[0mdata\u001b[0m\u001b[0;34m,\u001b[0m \u001b[0mdict\u001b[0m\u001b[0;34m)\u001b[0m\u001b[0;34m:\u001b[0m\u001b[0;34m\u001b[0m\u001b[0;34m\u001b[0m\u001b[0m\n\u001b[1;32m    663\u001b[0m             \u001b[0;31m# GH#38939 de facto copy defaults to False only in non-dict cases\u001b[0m\u001b[0;34m\u001b[0m\u001b[0;34m\u001b[0m\u001b[0m\n\u001b[0;32m--> 664\u001b[0;31m             \u001b[0mmgr\u001b[0m \u001b[0;34m=\u001b[0m \u001b[0mdict_to_mgr\u001b[0m\u001b[0;34m(\u001b[0m\u001b[0mdata\u001b[0m\u001b[0;34m,\u001b[0m \u001b[0mindex\u001b[0m\u001b[0;34m,\u001b[0m \u001b[0mcolumns\u001b[0m\u001b[0;34m,\u001b[0m \u001b[0mdtype\u001b[0m\u001b[0;34m=\u001b[0m\u001b[0mdtype\u001b[0m\u001b[0;34m,\u001b[0m \u001b[0mcopy\u001b[0m\u001b[0;34m=\u001b[0m\u001b[0mcopy\u001b[0m\u001b[0;34m,\u001b[0m \u001b[0mtyp\u001b[0m\u001b[0;34m=\u001b[0m\u001b[0mmanager\u001b[0m\u001b[0;34m)\u001b[0m\u001b[0;34m\u001b[0m\u001b[0;34m\u001b[0m\u001b[0m\n\u001b[0m\u001b[1;32m    665\u001b[0m         \u001b[0;32melif\u001b[0m \u001b[0misinstance\u001b[0m\u001b[0;34m(\u001b[0m\u001b[0mdata\u001b[0m\u001b[0;34m,\u001b[0m \u001b[0mma\u001b[0m\u001b[0;34m.\u001b[0m\u001b[0mMaskedArray\u001b[0m\u001b[0;34m)\u001b[0m\u001b[0;34m:\u001b[0m\u001b[0;34m\u001b[0m\u001b[0;34m\u001b[0m\u001b[0m\n\u001b[1;32m    666\u001b[0m             \u001b[0;32mimport\u001b[0m \u001b[0mnumpy\u001b[0m\u001b[0;34m.\u001b[0m\u001b[0mma\u001b[0m\u001b[0;34m.\u001b[0m\u001b[0mmrecords\u001b[0m \u001b[0;32mas\u001b[0m \u001b[0mmrecords\u001b[0m\u001b[0;34m\u001b[0m\u001b[0;34m\u001b[0m\u001b[0m\n",
            "\u001b[0;32m/usr/local/lib/python3.10/dist-packages/pandas/core/internals/construction.py\u001b[0m in \u001b[0;36mdict_to_mgr\u001b[0;34m(data, index, columns, dtype, typ, copy)\u001b[0m\n\u001b[1;32m    491\u001b[0m             \u001b[0marrays\u001b[0m \u001b[0;34m=\u001b[0m \u001b[0;34m[\u001b[0m\u001b[0mx\u001b[0m\u001b[0;34m.\u001b[0m\u001b[0mcopy\u001b[0m\u001b[0;34m(\u001b[0m\u001b[0;34m)\u001b[0m \u001b[0;32mif\u001b[0m \u001b[0mhasattr\u001b[0m\u001b[0;34m(\u001b[0m\u001b[0mx\u001b[0m\u001b[0;34m,\u001b[0m \u001b[0;34m\"dtype\"\u001b[0m\u001b[0;34m)\u001b[0m \u001b[0;32melse\u001b[0m \u001b[0mx\u001b[0m \u001b[0;32mfor\u001b[0m \u001b[0mx\u001b[0m \u001b[0;32min\u001b[0m \u001b[0marrays\u001b[0m\u001b[0;34m]\u001b[0m\u001b[0;34m\u001b[0m\u001b[0;34m\u001b[0m\u001b[0m\n\u001b[1;32m    492\u001b[0m \u001b[0;34m\u001b[0m\u001b[0m\n\u001b[0;32m--> 493\u001b[0;31m     \u001b[0;32mreturn\u001b[0m \u001b[0marrays_to_mgr\u001b[0m\u001b[0;34m(\u001b[0m\u001b[0marrays\u001b[0m\u001b[0;34m,\u001b[0m \u001b[0mcolumns\u001b[0m\u001b[0;34m,\u001b[0m \u001b[0mindex\u001b[0m\u001b[0;34m,\u001b[0m \u001b[0mdtype\u001b[0m\u001b[0;34m=\u001b[0m\u001b[0mdtype\u001b[0m\u001b[0;34m,\u001b[0m \u001b[0mtyp\u001b[0m\u001b[0;34m=\u001b[0m\u001b[0mtyp\u001b[0m\u001b[0;34m,\u001b[0m \u001b[0mconsolidate\u001b[0m\u001b[0;34m=\u001b[0m\u001b[0mcopy\u001b[0m\u001b[0;34m)\u001b[0m\u001b[0;34m\u001b[0m\u001b[0;34m\u001b[0m\u001b[0m\n\u001b[0m\u001b[1;32m    494\u001b[0m \u001b[0;34m\u001b[0m\u001b[0m\n\u001b[1;32m    495\u001b[0m \u001b[0;34m\u001b[0m\u001b[0m\n",
            "\u001b[0;32m/usr/local/lib/python3.10/dist-packages/pandas/core/internals/construction.py\u001b[0m in \u001b[0;36marrays_to_mgr\u001b[0;34m(arrays, columns, index, dtype, verify_integrity, typ, consolidate)\u001b[0m\n\u001b[1;32m    116\u001b[0m         \u001b[0;31m# figure out the index, if necessary\u001b[0m\u001b[0;34m\u001b[0m\u001b[0;34m\u001b[0m\u001b[0m\n\u001b[1;32m    117\u001b[0m         \u001b[0;32mif\u001b[0m \u001b[0mindex\u001b[0m \u001b[0;32mis\u001b[0m \u001b[0;32mNone\u001b[0m\u001b[0;34m:\u001b[0m\u001b[0;34m\u001b[0m\u001b[0;34m\u001b[0m\u001b[0m\n\u001b[0;32m--> 118\u001b[0;31m             \u001b[0mindex\u001b[0m \u001b[0;34m=\u001b[0m \u001b[0m_extract_index\u001b[0m\u001b[0;34m(\u001b[0m\u001b[0marrays\u001b[0m\u001b[0;34m)\u001b[0m\u001b[0;34m\u001b[0m\u001b[0;34m\u001b[0m\u001b[0m\n\u001b[0m\u001b[1;32m    119\u001b[0m         \u001b[0;32melse\u001b[0m\u001b[0;34m:\u001b[0m\u001b[0;34m\u001b[0m\u001b[0;34m\u001b[0m\u001b[0m\n\u001b[1;32m    120\u001b[0m             \u001b[0mindex\u001b[0m \u001b[0;34m=\u001b[0m \u001b[0mensure_index\u001b[0m\u001b[0;34m(\u001b[0m\u001b[0mindex\u001b[0m\u001b[0;34m)\u001b[0m\u001b[0;34m\u001b[0m\u001b[0;34m\u001b[0m\u001b[0m\n",
            "\u001b[0;32m/usr/local/lib/python3.10/dist-packages/pandas/core/internals/construction.py\u001b[0m in \u001b[0;36m_extract_index\u001b[0;34m(data)\u001b[0m\n\u001b[1;32m    664\u001b[0m             \u001b[0mlengths\u001b[0m \u001b[0;34m=\u001b[0m \u001b[0mlist\u001b[0m\u001b[0;34m(\u001b[0m\u001b[0mset\u001b[0m\u001b[0;34m(\u001b[0m\u001b[0mraw_lengths\u001b[0m\u001b[0;34m)\u001b[0m\u001b[0;34m)\u001b[0m\u001b[0;34m\u001b[0m\u001b[0;34m\u001b[0m\u001b[0m\n\u001b[1;32m    665\u001b[0m             \u001b[0;32mif\u001b[0m \u001b[0mlen\u001b[0m\u001b[0;34m(\u001b[0m\u001b[0mlengths\u001b[0m\u001b[0;34m)\u001b[0m \u001b[0;34m>\u001b[0m \u001b[0;36m1\u001b[0m\u001b[0;34m:\u001b[0m\u001b[0;34m\u001b[0m\u001b[0;34m\u001b[0m\u001b[0m\n\u001b[0;32m--> 666\u001b[0;31m                 \u001b[0;32mraise\u001b[0m \u001b[0mValueError\u001b[0m\u001b[0;34m(\u001b[0m\u001b[0;34m\"All arrays must be of the same length\"\u001b[0m\u001b[0;34m)\u001b[0m\u001b[0;34m\u001b[0m\u001b[0;34m\u001b[0m\u001b[0m\n\u001b[0m\u001b[1;32m    667\u001b[0m \u001b[0;34m\u001b[0m\u001b[0m\n\u001b[1;32m    668\u001b[0m             \u001b[0;32mif\u001b[0m \u001b[0mhave_dicts\u001b[0m\u001b[0;34m:\u001b[0m\u001b[0;34m\u001b[0m\u001b[0;34m\u001b[0m\u001b[0m\n",
            "\u001b[0;31mValueError\u001b[0m: All arrays must be of the same length"
          ]
        }
      ],
      "source": [
        "#display season_trends\n",
        "x = list(range(2015, 2023))\n",
        "y = season_trends\n",
        "\n",
        "#create dataframe for season trends\n",
        "seas_df = pd.DataFrame({'Seasons': x,\n",
        "                        'All Dogs': y[0],\n",
        "                        'Dogs with 6.5+ points': y[1],\n",
        "                        'Divisional Dogs': y[2],\n",
        "                        'Dogs that won 4-6 games the previous season': y[3]\n",
        "                        })\n",
        "\n",
        "#sns.barplot(data=seas_df, x='Seasons')\n",
        "ax = seas_df.plot(x='Seasons', kind='bar', figsize=(14,6))\n",
        "ax.axhline(y=0.5239, color='black', linestyle='--')\n",
        "ax.set_title('NFL Week 1 Trends: Underdogs that covered the spread', fontdict={'fontsize':14})\n",
        "ax.set_xlabel('Seasons')\n",
        "ax.set_ylabel('Under percent')\n",
        "plt.savefig('week1_trends.png')\n",
        "plt.show()"
      ]
    }
  ],
  "metadata": {
    "colab": {
      "provenance": []
    },
    "kernelspec": {
      "display_name": "Python 3",
      "name": "python3"
    },
    "language_info": {
      "name": "python"
    }
  },
  "nbformat": 4,
  "nbformat_minor": 0
}